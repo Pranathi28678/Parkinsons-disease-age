{
  "nbformat": 4,
  "nbformat_minor": 0,
  "metadata": {
    "colab": {
      "provenance": []
    },
    "kernelspec": {
      "name": "python3",
      "display_name": "Python 3"
    },
    "language_info": {
      "name": "python"
    }
  },
  "cells": [
    {
      "cell_type": "markdown",
      "source": [
        "#  Prediction of Parkinson's Disease Using Machine Learning"
      ],
      "metadata": {
        "id": "cCAEGK5OqMEl"
      }
    },
    {
      "cell_type": "markdown",
      "source": [
        "# IMPORTING LIBARIES"
      ],
      "metadata": {
        "id": "PKcfD_-Iqwjp"
      }
    },
    {
      "cell_type": "code",
      "source": [
        "from __future__ import print_function\n",
        "import pandas as pd\n",
        "import numpy as np\n",
        "import matplotlib.pyplot as plt\n",
        "import seaborn as sns\n",
        "from sklearn.metrics import classification_report\n",
        "from sklearn import metrics\n",
        "from sklearn import tree\n",
        "import warnings\n",
        "warnings.filterwarnings('ignore')"
      ],
      "metadata": {
        "id": "8LLj0PHZYllM"
      },
      "execution_count": null,
      "outputs": []
    },
    {
      "cell_type": "code",
      "source": [
        "from google.colab import drive\n",
        "drive.mount('/content/drive')"
      ],
      "metadata": {
        "colab": {
          "base_uri": "https://localhost:8080/"
        },
        "id": "YDX56h8Zq-la",
        "outputId": "c972c254-3fc4-497e-ce7a-2f54120d8947"
      },
      "execution_count": null,
      "outputs": [
        {
          "output_type": "stream",
          "name": "stdout",
          "text": [
            "Mounted at /content/drive\n"
          ]
        }
      ]
    },
    {
      "cell_type": "code",
      "source": [
        "data1=pd.read_csv('/content/drive/MyDrive/Copy of parkinsons_updrs.data.csv')"
      ],
      "metadata": {
        "id": "cgAlmCP3rCz5"
      },
      "execution_count": null,
      "outputs": []
    },
    {
      "cell_type": "code",
      "source": [
        "data=data1.copy()"
      ],
      "metadata": {
        "id": "ofpAKSTaZhUI"
      },
      "execution_count": null,
      "outputs": []
    },
    {
      "cell_type": "code",
      "source": [
        "data.drop('index', inplace=True, axis=1)"
      ],
      "metadata": {
        "id": "TYmbkfvpZmhK"
      },
      "execution_count": null,
      "outputs": []
    },
    {
      "cell_type": "code",
      "source": [
        "data.head()"
      ],
      "metadata": {
        "colab": {
          "base_uri": "https://localhost:8080/",
          "height": 299
        },
        "id": "bmSoPtegrhI_",
        "outputId": "bc23186c-1ef0-4c67-fe5a-bfba00421e34"
      },
      "execution_count": null,
      "outputs": [
        {
          "output_type": "execute_result",
          "data": {
            "text/plain": [
              "   subject#  age  sex  test_time  motor_UPDRS  total_UPDRS  Jitter(%)  \\\n",
              "0         1   72    0     5.6431       28.199       34.398    0.00662   \n",
              "1         1   72    0    12.6660       28.447       34.894    0.00300   \n",
              "2         1   72    0    19.6810       28.695       35.389    0.00481   \n",
              "3         1   72    0    25.6470       28.905       35.810    0.00528   \n",
              "4         1   72    0    33.6420       29.187       36.375    0.00335   \n",
              "\n",
              "   Jitter(Abs)  Jitter:RAP  Jitter:PPQ5  ...  Shimmer(dB)  Shimmer:APQ3  \\\n",
              "0     0.000034     0.00401      0.00317  ...        0.230       0.01438   \n",
              "1     0.000017     0.00132      0.00150  ...        0.179       0.00994   \n",
              "2     0.000025     0.00205      0.00208  ...        0.181       0.00734   \n",
              "3     0.000027     0.00191      0.00264  ...        0.327       0.01106   \n",
              "4     0.000020     0.00093      0.00130  ...        0.176       0.00679   \n",
              "\n",
              "   Shimmer:APQ5  Shimmer:APQ11  Shimmer:DDA       NHR     HNR     RPDE  \\\n",
              "0       0.01309        0.01662      0.04314  0.014290  21.640  0.41888   \n",
              "1       0.01072        0.01689      0.02982  0.011112  27.183  0.43493   \n",
              "2       0.00844        0.01458      0.02202  0.020220  23.047  0.46222   \n",
              "3       0.01265        0.01963      0.03317  0.027837  24.445  0.48730   \n",
              "4       0.00929        0.01819      0.02036  0.011625  26.126  0.47188   \n",
              "\n",
              "       DFA      PPE  \n",
              "0  0.54842  0.16006  \n",
              "1  0.56477  0.10810  \n",
              "2  0.54405  0.21014  \n",
              "3  0.57794  0.33277  \n",
              "4  0.56122  0.19361  \n",
              "\n",
              "[5 rows x 22 columns]"
            ],
            "text/html": [
              "\n",
              "\n",
              "  <div id=\"df-7cf34d5f-19ff-44c6-8aa7-3673daa95bee\">\n",
              "    <div class=\"colab-df-container\">\n",
              "      <div>\n",
              "<style scoped>\n",
              "    .dataframe tbody tr th:only-of-type {\n",
              "        vertical-align: middle;\n",
              "    }\n",
              "\n",
              "    .dataframe tbody tr th {\n",
              "        vertical-align: top;\n",
              "    }\n",
              "\n",
              "    .dataframe thead th {\n",
              "        text-align: right;\n",
              "    }\n",
              "</style>\n",
              "<table border=\"1\" class=\"dataframe\">\n",
              "  <thead>\n",
              "    <tr style=\"text-align: right;\">\n",
              "      <th></th>\n",
              "      <th>subject#</th>\n",
              "      <th>age</th>\n",
              "      <th>sex</th>\n",
              "      <th>test_time</th>\n",
              "      <th>motor_UPDRS</th>\n",
              "      <th>total_UPDRS</th>\n",
              "      <th>Jitter(%)</th>\n",
              "      <th>Jitter(Abs)</th>\n",
              "      <th>Jitter:RAP</th>\n",
              "      <th>Jitter:PPQ5</th>\n",
              "      <th>...</th>\n",
              "      <th>Shimmer(dB)</th>\n",
              "      <th>Shimmer:APQ3</th>\n",
              "      <th>Shimmer:APQ5</th>\n",
              "      <th>Shimmer:APQ11</th>\n",
              "      <th>Shimmer:DDA</th>\n",
              "      <th>NHR</th>\n",
              "      <th>HNR</th>\n",
              "      <th>RPDE</th>\n",
              "      <th>DFA</th>\n",
              "      <th>PPE</th>\n",
              "    </tr>\n",
              "  </thead>\n",
              "  <tbody>\n",
              "    <tr>\n",
              "      <th>0</th>\n",
              "      <td>1</td>\n",
              "      <td>72</td>\n",
              "      <td>0</td>\n",
              "      <td>5.6431</td>\n",
              "      <td>28.199</td>\n",
              "      <td>34.398</td>\n",
              "      <td>0.00662</td>\n",
              "      <td>0.000034</td>\n",
              "      <td>0.00401</td>\n",
              "      <td>0.00317</td>\n",
              "      <td>...</td>\n",
              "      <td>0.230</td>\n",
              "      <td>0.01438</td>\n",
              "      <td>0.01309</td>\n",
              "      <td>0.01662</td>\n",
              "      <td>0.04314</td>\n",
              "      <td>0.014290</td>\n",
              "      <td>21.640</td>\n",
              "      <td>0.41888</td>\n",
              "      <td>0.54842</td>\n",
              "      <td>0.16006</td>\n",
              "    </tr>\n",
              "    <tr>\n",
              "      <th>1</th>\n",
              "      <td>1</td>\n",
              "      <td>72</td>\n",
              "      <td>0</td>\n",
              "      <td>12.6660</td>\n",
              "      <td>28.447</td>\n",
              "      <td>34.894</td>\n",
              "      <td>0.00300</td>\n",
              "      <td>0.000017</td>\n",
              "      <td>0.00132</td>\n",
              "      <td>0.00150</td>\n",
              "      <td>...</td>\n",
              "      <td>0.179</td>\n",
              "      <td>0.00994</td>\n",
              "      <td>0.01072</td>\n",
              "      <td>0.01689</td>\n",
              "      <td>0.02982</td>\n",
              "      <td>0.011112</td>\n",
              "      <td>27.183</td>\n",
              "      <td>0.43493</td>\n",
              "      <td>0.56477</td>\n",
              "      <td>0.10810</td>\n",
              "    </tr>\n",
              "    <tr>\n",
              "      <th>2</th>\n",
              "      <td>1</td>\n",
              "      <td>72</td>\n",
              "      <td>0</td>\n",
              "      <td>19.6810</td>\n",
              "      <td>28.695</td>\n",
              "      <td>35.389</td>\n",
              "      <td>0.00481</td>\n",
              "      <td>0.000025</td>\n",
              "      <td>0.00205</td>\n",
              "      <td>0.00208</td>\n",
              "      <td>...</td>\n",
              "      <td>0.181</td>\n",
              "      <td>0.00734</td>\n",
              "      <td>0.00844</td>\n",
              "      <td>0.01458</td>\n",
              "      <td>0.02202</td>\n",
              "      <td>0.020220</td>\n",
              "      <td>23.047</td>\n",
              "      <td>0.46222</td>\n",
              "      <td>0.54405</td>\n",
              "      <td>0.21014</td>\n",
              "    </tr>\n",
              "    <tr>\n",
              "      <th>3</th>\n",
              "      <td>1</td>\n",
              "      <td>72</td>\n",
              "      <td>0</td>\n",
              "      <td>25.6470</td>\n",
              "      <td>28.905</td>\n",
              "      <td>35.810</td>\n",
              "      <td>0.00528</td>\n",
              "      <td>0.000027</td>\n",
              "      <td>0.00191</td>\n",
              "      <td>0.00264</td>\n",
              "      <td>...</td>\n",
              "      <td>0.327</td>\n",
              "      <td>0.01106</td>\n",
              "      <td>0.01265</td>\n",
              "      <td>0.01963</td>\n",
              "      <td>0.03317</td>\n",
              "      <td>0.027837</td>\n",
              "      <td>24.445</td>\n",
              "      <td>0.48730</td>\n",
              "      <td>0.57794</td>\n",
              "      <td>0.33277</td>\n",
              "    </tr>\n",
              "    <tr>\n",
              "      <th>4</th>\n",
              "      <td>1</td>\n",
              "      <td>72</td>\n",
              "      <td>0</td>\n",
              "      <td>33.6420</td>\n",
              "      <td>29.187</td>\n",
              "      <td>36.375</td>\n",
              "      <td>0.00335</td>\n",
              "      <td>0.000020</td>\n",
              "      <td>0.00093</td>\n",
              "      <td>0.00130</td>\n",
              "      <td>...</td>\n",
              "      <td>0.176</td>\n",
              "      <td>0.00679</td>\n",
              "      <td>0.00929</td>\n",
              "      <td>0.01819</td>\n",
              "      <td>0.02036</td>\n",
              "      <td>0.011625</td>\n",
              "      <td>26.126</td>\n",
              "      <td>0.47188</td>\n",
              "      <td>0.56122</td>\n",
              "      <td>0.19361</td>\n",
              "    </tr>\n",
              "  </tbody>\n",
              "</table>\n",
              "<p>5 rows × 22 columns</p>\n",
              "</div>\n",
              "      <button class=\"colab-df-convert\" onclick=\"convertToInteractive('df-7cf34d5f-19ff-44c6-8aa7-3673daa95bee')\"\n",
              "              title=\"Convert this dataframe to an interactive table.\"\n",
              "              style=\"display:none;\">\n",
              "\n",
              "  <svg xmlns=\"http://www.w3.org/2000/svg\" height=\"24px\"viewBox=\"0 0 24 24\"\n",
              "       width=\"24px\">\n",
              "    <path d=\"M0 0h24v24H0V0z\" fill=\"none\"/>\n",
              "    <path d=\"M18.56 5.44l.94 2.06.94-2.06 2.06-.94-2.06-.94-.94-2.06-.94 2.06-2.06.94zm-11 1L8.5 8.5l.94-2.06 2.06-.94-2.06-.94L8.5 2.5l-.94 2.06-2.06.94zm10 10l.94 2.06.94-2.06 2.06-.94-2.06-.94-.94-2.06-.94 2.06-2.06.94z\"/><path d=\"M17.41 7.96l-1.37-1.37c-.4-.4-.92-.59-1.43-.59-.52 0-1.04.2-1.43.59L10.3 9.45l-7.72 7.72c-.78.78-.78 2.05 0 2.83L4 21.41c.39.39.9.59 1.41.59.51 0 1.02-.2 1.41-.59l7.78-7.78 2.81-2.81c.8-.78.8-2.07 0-2.86zM5.41 20L4 18.59l7.72-7.72 1.47 1.35L5.41 20z\"/>\n",
              "  </svg>\n",
              "      </button>\n",
              "\n",
              "\n",
              "\n",
              "    <div id=\"df-6a080a23-e6d4-4628-abac-647b9ae3546e\">\n",
              "      <button class=\"colab-df-quickchart\" onclick=\"quickchart('df-6a080a23-e6d4-4628-abac-647b9ae3546e')\"\n",
              "              title=\"Suggest charts.\"\n",
              "              style=\"display:none;\">\n",
              "\n",
              "<svg xmlns=\"http://www.w3.org/2000/svg\" height=\"24px\"viewBox=\"0 0 24 24\"\n",
              "     width=\"24px\">\n",
              "    <g>\n",
              "        <path d=\"M19 3H5c-1.1 0-2 .9-2 2v14c0 1.1.9 2 2 2h14c1.1 0 2-.9 2-2V5c0-1.1-.9-2-2-2zM9 17H7v-7h2v7zm4 0h-2V7h2v10zm4 0h-2v-4h2v4z\"/>\n",
              "    </g>\n",
              "</svg>\n",
              "      </button>\n",
              "    </div>\n",
              "\n",
              "<style>\n",
              "  .colab-df-quickchart {\n",
              "    background-color: #E8F0FE;\n",
              "    border: none;\n",
              "    border-radius: 50%;\n",
              "    cursor: pointer;\n",
              "    display: none;\n",
              "    fill: #1967D2;\n",
              "    height: 32px;\n",
              "    padding: 0 0 0 0;\n",
              "    width: 32px;\n",
              "  }\n",
              "\n",
              "  .colab-df-quickchart:hover {\n",
              "    background-color: #E2EBFA;\n",
              "    box-shadow: 0px 1px 2px rgba(60, 64, 67, 0.3), 0px 1px 3px 1px rgba(60, 64, 67, 0.15);\n",
              "    fill: #174EA6;\n",
              "  }\n",
              "\n",
              "  [theme=dark] .colab-df-quickchart {\n",
              "    background-color: #3B4455;\n",
              "    fill: #D2E3FC;\n",
              "  }\n",
              "\n",
              "  [theme=dark] .colab-df-quickchart:hover {\n",
              "    background-color: #434B5C;\n",
              "    box-shadow: 0px 1px 3px 1px rgba(0, 0, 0, 0.15);\n",
              "    filter: drop-shadow(0px 1px 2px rgba(0, 0, 0, 0.3));\n",
              "    fill: #FFFFFF;\n",
              "  }\n",
              "</style>\n",
              "\n",
              "    <script>\n",
              "      async function quickchart(key) {\n",
              "        const containerElement = document.querySelector('#' + key);\n",
              "        const charts = await google.colab.kernel.invokeFunction(\n",
              "            'suggestCharts', [key], {});\n",
              "      }\n",
              "    </script>\n",
              "\n",
              "      <script>\n",
              "\n",
              "function displayQuickchartButton(domScope) {\n",
              "  let quickchartButtonEl =\n",
              "    domScope.querySelector('#df-6a080a23-e6d4-4628-abac-647b9ae3546e button.colab-df-quickchart');\n",
              "  quickchartButtonEl.style.display =\n",
              "    google.colab.kernel.accessAllowed ? 'block' : 'none';\n",
              "}\n",
              "\n",
              "        displayQuickchartButton(document);\n",
              "      </script>\n",
              "      <style>\n",
              "    .colab-df-container {\n",
              "      display:flex;\n",
              "      flex-wrap:wrap;\n",
              "      gap: 12px;\n",
              "    }\n",
              "\n",
              "    .colab-df-convert {\n",
              "      background-color: #E8F0FE;\n",
              "      border: none;\n",
              "      border-radius: 50%;\n",
              "      cursor: pointer;\n",
              "      display: none;\n",
              "      fill: #1967D2;\n",
              "      height: 32px;\n",
              "      padding: 0 0 0 0;\n",
              "      width: 32px;\n",
              "    }\n",
              "\n",
              "    .colab-df-convert:hover {\n",
              "      background-color: #E2EBFA;\n",
              "      box-shadow: 0px 1px 2px rgba(60, 64, 67, 0.3), 0px 1px 3px 1px rgba(60, 64, 67, 0.15);\n",
              "      fill: #174EA6;\n",
              "    }\n",
              "\n",
              "    [theme=dark] .colab-df-convert {\n",
              "      background-color: #3B4455;\n",
              "      fill: #D2E3FC;\n",
              "    }\n",
              "\n",
              "    [theme=dark] .colab-df-convert:hover {\n",
              "      background-color: #434B5C;\n",
              "      box-shadow: 0px 1px 3px 1px rgba(0, 0, 0, 0.15);\n",
              "      filter: drop-shadow(0px 1px 2px rgba(0, 0, 0, 0.3));\n",
              "      fill: #FFFFFF;\n",
              "    }\n",
              "  </style>\n",
              "\n",
              "      <script>\n",
              "        const buttonEl =\n",
              "          document.querySelector('#df-7cf34d5f-19ff-44c6-8aa7-3673daa95bee button.colab-df-convert');\n",
              "        buttonEl.style.display =\n",
              "          google.colab.kernel.accessAllowed ? 'block' : 'none';\n",
              "\n",
              "        async function convertToInteractive(key) {\n",
              "          const element = document.querySelector('#df-7cf34d5f-19ff-44c6-8aa7-3673daa95bee');\n",
              "          const dataTable =\n",
              "            await google.colab.kernel.invokeFunction('convertToInteractive',\n",
              "                                                     [key], {});\n",
              "          if (!dataTable) return;\n",
              "\n",
              "          const docLinkHtml = 'Like what you see? Visit the ' +\n",
              "            '<a target=\"_blank\" href=https://colab.research.google.com/notebooks/data_table.ipynb>data table notebook</a>'\n",
              "            + ' to learn more about interactive tables.';\n",
              "          element.innerHTML = '';\n",
              "          dataTable['output_type'] = 'display_data';\n",
              "          await google.colab.output.renderOutput(dataTable, element);\n",
              "          const docLink = document.createElement('div');\n",
              "          docLink.innerHTML = docLinkHtml;\n",
              "          element.appendChild(docLink);\n",
              "        }\n",
              "      </script>\n",
              "    </div>\n",
              "  </div>\n"
            ]
          },
          "metadata": {},
          "execution_count": 6
        }
      ]
    },
    {
      "cell_type": "code",
      "source": [
        "data.tail()"
      ],
      "metadata": {
        "colab": {
          "base_uri": "https://localhost:8080/",
          "height": 299
        },
        "id": "iSDBv31o6_IW",
        "outputId": "169b0840-5cdb-4ed9-b12b-462e050bdbca"
      },
      "execution_count": null,
      "outputs": [
        {
          "output_type": "execute_result",
          "data": {
            "text/plain": [
              "      subject#  age  sex  test_time  motor_UPDRS  total_UPDRS  Jitter(%)  \\\n",
              "5870        42   61    0     142.79       22.485       33.485    0.00406   \n",
              "5871        42   61    0     149.84       21.988       32.988    0.00297   \n",
              "5872        42   61    0     156.82       21.495       32.495    0.00349   \n",
              "5873        42   61    0     163.73       21.007       32.007    0.00281   \n",
              "5874        42   61    0     170.73       20.513       31.513    0.00282   \n",
              "\n",
              "      Jitter(Abs)  Jitter:RAP  Jitter:PPQ5  ...  Shimmer(dB)  Shimmer:APQ3  \\\n",
              "5870     0.000031     0.00167      0.00168  ...        0.160       0.00973   \n",
              "5871     0.000025     0.00119      0.00147  ...        0.215       0.01052   \n",
              "5872     0.000025     0.00152      0.00187  ...        0.244       0.01371   \n",
              "5873     0.000020     0.00128      0.00151  ...        0.131       0.00693   \n",
              "5874     0.000021     0.00135      0.00166  ...        0.171       0.00946   \n",
              "\n",
              "      Shimmer:APQ5  Shimmer:APQ11  Shimmer:DDA       NHR     HNR     RPDE  \\\n",
              "5870       0.01133        0.01549      0.02920  0.025137  22.369  0.64215   \n",
              "5871       0.01277        0.01904      0.03157  0.011927  22.886  0.52598   \n",
              "5872       0.01456        0.01877      0.04112  0.017701  25.065  0.47792   \n",
              "5873       0.00870        0.01307      0.02078  0.007984  24.422  0.56865   \n",
              "5874       0.01154        0.01470      0.02839  0.008172  23.259  0.58608   \n",
              "\n",
              "          DFA      PPE  \n",
              "5870  0.55314  0.21367  \n",
              "5871  0.56518  0.12621  \n",
              "5872  0.57888  0.14157  \n",
              "5873  0.56327  0.14204  \n",
              "5874  0.57077  0.15336  \n",
              "\n",
              "[5 rows x 22 columns]"
            ],
            "text/html": [
              "\n",
              "\n",
              "  <div id=\"df-7d2e18c2-fdd8-44d2-a22e-0791e474bfe5\">\n",
              "    <div class=\"colab-df-container\">\n",
              "      <div>\n",
              "<style scoped>\n",
              "    .dataframe tbody tr th:only-of-type {\n",
              "        vertical-align: middle;\n",
              "    }\n",
              "\n",
              "    .dataframe tbody tr th {\n",
              "        vertical-align: top;\n",
              "    }\n",
              "\n",
              "    .dataframe thead th {\n",
              "        text-align: right;\n",
              "    }\n",
              "</style>\n",
              "<table border=\"1\" class=\"dataframe\">\n",
              "  <thead>\n",
              "    <tr style=\"text-align: right;\">\n",
              "      <th></th>\n",
              "      <th>subject#</th>\n",
              "      <th>age</th>\n",
              "      <th>sex</th>\n",
              "      <th>test_time</th>\n",
              "      <th>motor_UPDRS</th>\n",
              "      <th>total_UPDRS</th>\n",
              "      <th>Jitter(%)</th>\n",
              "      <th>Jitter(Abs)</th>\n",
              "      <th>Jitter:RAP</th>\n",
              "      <th>Jitter:PPQ5</th>\n",
              "      <th>...</th>\n",
              "      <th>Shimmer(dB)</th>\n",
              "      <th>Shimmer:APQ3</th>\n",
              "      <th>Shimmer:APQ5</th>\n",
              "      <th>Shimmer:APQ11</th>\n",
              "      <th>Shimmer:DDA</th>\n",
              "      <th>NHR</th>\n",
              "      <th>HNR</th>\n",
              "      <th>RPDE</th>\n",
              "      <th>DFA</th>\n",
              "      <th>PPE</th>\n",
              "    </tr>\n",
              "  </thead>\n",
              "  <tbody>\n",
              "    <tr>\n",
              "      <th>5870</th>\n",
              "      <td>42</td>\n",
              "      <td>61</td>\n",
              "      <td>0</td>\n",
              "      <td>142.79</td>\n",
              "      <td>22.485</td>\n",
              "      <td>33.485</td>\n",
              "      <td>0.00406</td>\n",
              "      <td>0.000031</td>\n",
              "      <td>0.00167</td>\n",
              "      <td>0.00168</td>\n",
              "      <td>...</td>\n",
              "      <td>0.160</td>\n",
              "      <td>0.00973</td>\n",
              "      <td>0.01133</td>\n",
              "      <td>0.01549</td>\n",
              "      <td>0.02920</td>\n",
              "      <td>0.025137</td>\n",
              "      <td>22.369</td>\n",
              "      <td>0.64215</td>\n",
              "      <td>0.55314</td>\n",
              "      <td>0.21367</td>\n",
              "    </tr>\n",
              "    <tr>\n",
              "      <th>5871</th>\n",
              "      <td>42</td>\n",
              "      <td>61</td>\n",
              "      <td>0</td>\n",
              "      <td>149.84</td>\n",
              "      <td>21.988</td>\n",
              "      <td>32.988</td>\n",
              "      <td>0.00297</td>\n",
              "      <td>0.000025</td>\n",
              "      <td>0.00119</td>\n",
              "      <td>0.00147</td>\n",
              "      <td>...</td>\n",
              "      <td>0.215</td>\n",
              "      <td>0.01052</td>\n",
              "      <td>0.01277</td>\n",
              "      <td>0.01904</td>\n",
              "      <td>0.03157</td>\n",
              "      <td>0.011927</td>\n",
              "      <td>22.886</td>\n",
              "      <td>0.52598</td>\n",
              "      <td>0.56518</td>\n",
              "      <td>0.12621</td>\n",
              "    </tr>\n",
              "    <tr>\n",
              "      <th>5872</th>\n",
              "      <td>42</td>\n",
              "      <td>61</td>\n",
              "      <td>0</td>\n",
              "      <td>156.82</td>\n",
              "      <td>21.495</td>\n",
              "      <td>32.495</td>\n",
              "      <td>0.00349</td>\n",
              "      <td>0.000025</td>\n",
              "      <td>0.00152</td>\n",
              "      <td>0.00187</td>\n",
              "      <td>...</td>\n",
              "      <td>0.244</td>\n",
              "      <td>0.01371</td>\n",
              "      <td>0.01456</td>\n",
              "      <td>0.01877</td>\n",
              "      <td>0.04112</td>\n",
              "      <td>0.017701</td>\n",
              "      <td>25.065</td>\n",
              "      <td>0.47792</td>\n",
              "      <td>0.57888</td>\n",
              "      <td>0.14157</td>\n",
              "    </tr>\n",
              "    <tr>\n",
              "      <th>5873</th>\n",
              "      <td>42</td>\n",
              "      <td>61</td>\n",
              "      <td>0</td>\n",
              "      <td>163.73</td>\n",
              "      <td>21.007</td>\n",
              "      <td>32.007</td>\n",
              "      <td>0.00281</td>\n",
              "      <td>0.000020</td>\n",
              "      <td>0.00128</td>\n",
              "      <td>0.00151</td>\n",
              "      <td>...</td>\n",
              "      <td>0.131</td>\n",
              "      <td>0.00693</td>\n",
              "      <td>0.00870</td>\n",
              "      <td>0.01307</td>\n",
              "      <td>0.02078</td>\n",
              "      <td>0.007984</td>\n",
              "      <td>24.422</td>\n",
              "      <td>0.56865</td>\n",
              "      <td>0.56327</td>\n",
              "      <td>0.14204</td>\n",
              "    </tr>\n",
              "    <tr>\n",
              "      <th>5874</th>\n",
              "      <td>42</td>\n",
              "      <td>61</td>\n",
              "      <td>0</td>\n",
              "      <td>170.73</td>\n",
              "      <td>20.513</td>\n",
              "      <td>31.513</td>\n",
              "      <td>0.00282</td>\n",
              "      <td>0.000021</td>\n",
              "      <td>0.00135</td>\n",
              "      <td>0.00166</td>\n",
              "      <td>...</td>\n",
              "      <td>0.171</td>\n",
              "      <td>0.00946</td>\n",
              "      <td>0.01154</td>\n",
              "      <td>0.01470</td>\n",
              "      <td>0.02839</td>\n",
              "      <td>0.008172</td>\n",
              "      <td>23.259</td>\n",
              "      <td>0.58608</td>\n",
              "      <td>0.57077</td>\n",
              "      <td>0.15336</td>\n",
              "    </tr>\n",
              "  </tbody>\n",
              "</table>\n",
              "<p>5 rows × 22 columns</p>\n",
              "</div>\n",
              "      <button class=\"colab-df-convert\" onclick=\"convertToInteractive('df-7d2e18c2-fdd8-44d2-a22e-0791e474bfe5')\"\n",
              "              title=\"Convert this dataframe to an interactive table.\"\n",
              "              style=\"display:none;\">\n",
              "\n",
              "  <svg xmlns=\"http://www.w3.org/2000/svg\" height=\"24px\"viewBox=\"0 0 24 24\"\n",
              "       width=\"24px\">\n",
              "    <path d=\"M0 0h24v24H0V0z\" fill=\"none\"/>\n",
              "    <path d=\"M18.56 5.44l.94 2.06.94-2.06 2.06-.94-2.06-.94-.94-2.06-.94 2.06-2.06.94zm-11 1L8.5 8.5l.94-2.06 2.06-.94-2.06-.94L8.5 2.5l-.94 2.06-2.06.94zm10 10l.94 2.06.94-2.06 2.06-.94-2.06-.94-.94-2.06-.94 2.06-2.06.94z\"/><path d=\"M17.41 7.96l-1.37-1.37c-.4-.4-.92-.59-1.43-.59-.52 0-1.04.2-1.43.59L10.3 9.45l-7.72 7.72c-.78.78-.78 2.05 0 2.83L4 21.41c.39.39.9.59 1.41.59.51 0 1.02-.2 1.41-.59l7.78-7.78 2.81-2.81c.8-.78.8-2.07 0-2.86zM5.41 20L4 18.59l7.72-7.72 1.47 1.35L5.41 20z\"/>\n",
              "  </svg>\n",
              "      </button>\n",
              "\n",
              "\n",
              "\n",
              "    <div id=\"df-1768db59-56d1-4add-940f-b102a115f291\">\n",
              "      <button class=\"colab-df-quickchart\" onclick=\"quickchart('df-1768db59-56d1-4add-940f-b102a115f291')\"\n",
              "              title=\"Suggest charts.\"\n",
              "              style=\"display:none;\">\n",
              "\n",
              "<svg xmlns=\"http://www.w3.org/2000/svg\" height=\"24px\"viewBox=\"0 0 24 24\"\n",
              "     width=\"24px\">\n",
              "    <g>\n",
              "        <path d=\"M19 3H5c-1.1 0-2 .9-2 2v14c0 1.1.9 2 2 2h14c1.1 0 2-.9 2-2V5c0-1.1-.9-2-2-2zM9 17H7v-7h2v7zm4 0h-2V7h2v10zm4 0h-2v-4h2v4z\"/>\n",
              "    </g>\n",
              "</svg>\n",
              "      </button>\n",
              "    </div>\n",
              "\n",
              "<style>\n",
              "  .colab-df-quickchart {\n",
              "    background-color: #E8F0FE;\n",
              "    border: none;\n",
              "    border-radius: 50%;\n",
              "    cursor: pointer;\n",
              "    display: none;\n",
              "    fill: #1967D2;\n",
              "    height: 32px;\n",
              "    padding: 0 0 0 0;\n",
              "    width: 32px;\n",
              "  }\n",
              "\n",
              "  .colab-df-quickchart:hover {\n",
              "    background-color: #E2EBFA;\n",
              "    box-shadow: 0px 1px 2px rgba(60, 64, 67, 0.3), 0px 1px 3px 1px rgba(60, 64, 67, 0.15);\n",
              "    fill: #174EA6;\n",
              "  }\n",
              "\n",
              "  [theme=dark] .colab-df-quickchart {\n",
              "    background-color: #3B4455;\n",
              "    fill: #D2E3FC;\n",
              "  }\n",
              "\n",
              "  [theme=dark] .colab-df-quickchart:hover {\n",
              "    background-color: #434B5C;\n",
              "    box-shadow: 0px 1px 3px 1px rgba(0, 0, 0, 0.15);\n",
              "    filter: drop-shadow(0px 1px 2px rgba(0, 0, 0, 0.3));\n",
              "    fill: #FFFFFF;\n",
              "  }\n",
              "</style>\n",
              "\n",
              "    <script>\n",
              "      async function quickchart(key) {\n",
              "        const containerElement = document.querySelector('#' + key);\n",
              "        const charts = await google.colab.kernel.invokeFunction(\n",
              "            'suggestCharts', [key], {});\n",
              "      }\n",
              "    </script>\n",
              "\n",
              "      <script>\n",
              "\n",
              "function displayQuickchartButton(domScope) {\n",
              "  let quickchartButtonEl =\n",
              "    domScope.querySelector('#df-1768db59-56d1-4add-940f-b102a115f291 button.colab-df-quickchart');\n",
              "  quickchartButtonEl.style.display =\n",
              "    google.colab.kernel.accessAllowed ? 'block' : 'none';\n",
              "}\n",
              "\n",
              "        displayQuickchartButton(document);\n",
              "      </script>\n",
              "      <style>\n",
              "    .colab-df-container {\n",
              "      display:flex;\n",
              "      flex-wrap:wrap;\n",
              "      gap: 12px;\n",
              "    }\n",
              "\n",
              "    .colab-df-convert {\n",
              "      background-color: #E8F0FE;\n",
              "      border: none;\n",
              "      border-radius: 50%;\n",
              "      cursor: pointer;\n",
              "      display: none;\n",
              "      fill: #1967D2;\n",
              "      height: 32px;\n",
              "      padding: 0 0 0 0;\n",
              "      width: 32px;\n",
              "    }\n",
              "\n",
              "    .colab-df-convert:hover {\n",
              "      background-color: #E2EBFA;\n",
              "      box-shadow: 0px 1px 2px rgba(60, 64, 67, 0.3), 0px 1px 3px 1px rgba(60, 64, 67, 0.15);\n",
              "      fill: #174EA6;\n",
              "    }\n",
              "\n",
              "    [theme=dark] .colab-df-convert {\n",
              "      background-color: #3B4455;\n",
              "      fill: #D2E3FC;\n",
              "    }\n",
              "\n",
              "    [theme=dark] .colab-df-convert:hover {\n",
              "      background-color: #434B5C;\n",
              "      box-shadow: 0px 1px 3px 1px rgba(0, 0, 0, 0.15);\n",
              "      filter: drop-shadow(0px 1px 2px rgba(0, 0, 0, 0.3));\n",
              "      fill: #FFFFFF;\n",
              "    }\n",
              "  </style>\n",
              "\n",
              "      <script>\n",
              "        const buttonEl =\n",
              "          document.querySelector('#df-7d2e18c2-fdd8-44d2-a22e-0791e474bfe5 button.colab-df-convert');\n",
              "        buttonEl.style.display =\n",
              "          google.colab.kernel.accessAllowed ? 'block' : 'none';\n",
              "\n",
              "        async function convertToInteractive(key) {\n",
              "          const element = document.querySelector('#df-7d2e18c2-fdd8-44d2-a22e-0791e474bfe5');\n",
              "          const dataTable =\n",
              "            await google.colab.kernel.invokeFunction('convertToInteractive',\n",
              "                                                     [key], {});\n",
              "          if (!dataTable) return;\n",
              "\n",
              "          const docLinkHtml = 'Like what you see? Visit the ' +\n",
              "            '<a target=\"_blank\" href=https://colab.research.google.com/notebooks/data_table.ipynb>data table notebook</a>'\n",
              "            + ' to learn more about interactive tables.';\n",
              "          element.innerHTML = '';\n",
              "          dataTable['output_type'] = 'display_data';\n",
              "          await google.colab.output.renderOutput(dataTable, element);\n",
              "          const docLink = document.createElement('div');\n",
              "          docLink.innerHTML = docLinkHtml;\n",
              "          element.appendChild(docLink);\n",
              "        }\n",
              "      </script>\n",
              "    </div>\n",
              "  </div>\n"
            ]
          },
          "metadata": {},
          "execution_count": 7
        }
      ]
    },
    {
      "cell_type": "code",
      "source": [
        "data.info()"
      ],
      "metadata": {
        "colab": {
          "base_uri": "https://localhost:8080/"
        },
        "id": "dhronFwq7WTW",
        "outputId": "78316bb7-76dc-4772-95fd-52e8d86a60d7"
      },
      "execution_count": null,
      "outputs": [
        {
          "output_type": "stream",
          "name": "stdout",
          "text": [
            "<class 'pandas.core.frame.DataFrame'>\n",
            "RangeIndex: 5875 entries, 0 to 5874\n",
            "Data columns (total 22 columns):\n",
            " #   Column         Non-Null Count  Dtype  \n",
            "---  ------         --------------  -----  \n",
            " 0   subject#       5875 non-null   int64  \n",
            " 1   age            5875 non-null   int64  \n",
            " 2   sex            5875 non-null   int64  \n",
            " 3   test_time      5875 non-null   float64\n",
            " 4   motor_UPDRS    5875 non-null   float64\n",
            " 5   total_UPDRS    5875 non-null   float64\n",
            " 6   Jitter(%)      5875 non-null   float64\n",
            " 7   Jitter(Abs)    5875 non-null   float64\n",
            " 8   Jitter:RAP     5875 non-null   float64\n",
            " 9   Jitter:PPQ5    5875 non-null   float64\n",
            " 10  Jitter:DDP     5875 non-null   float64\n",
            " 11  Shimmer        5875 non-null   float64\n",
            " 12  Shimmer(dB)    5875 non-null   float64\n",
            " 13  Shimmer:APQ3   5875 non-null   float64\n",
            " 14  Shimmer:APQ5   5875 non-null   float64\n",
            " 15  Shimmer:APQ11  5875 non-null   float64\n",
            " 16  Shimmer:DDA    5875 non-null   float64\n",
            " 17  NHR            5875 non-null   float64\n",
            " 18  HNR            5875 non-null   float64\n",
            " 19  RPDE           5875 non-null   float64\n",
            " 20  DFA            5875 non-null   float64\n",
            " 21  PPE            5875 non-null   float64\n",
            "dtypes: float64(19), int64(3)\n",
            "memory usage: 1009.9 KB\n"
          ]
        }
      ]
    },
    {
      "cell_type": "code",
      "source": [
        "data.describe()"
      ],
      "metadata": {
        "colab": {
          "base_uri": "https://localhost:8080/",
          "height": 393
        },
        "id": "TDc8AHhz7aGN",
        "outputId": "7499122a-7eb7-4ed1-e30e-bf7d678ab41a"
      },
      "execution_count": null,
      "outputs": [
        {
          "output_type": "execute_result",
          "data": {
            "text/plain": [
              "          subject#          age          sex    test_time  motor_UPDRS  \\\n",
              "count  5875.000000  5875.000000  5875.000000  5875.000000  5875.000000   \n",
              "mean     21.494128    64.804936     0.317787    92.863722    21.296229   \n",
              "std      12.372279     8.821524     0.465656    53.445602     8.129282   \n",
              "min       1.000000    36.000000     0.000000    -4.262500     5.037700   \n",
              "25%      10.000000    58.000000     0.000000    46.847500    15.000000   \n",
              "50%      22.000000    65.000000     0.000000    91.523000    20.871000   \n",
              "75%      33.000000    72.000000     1.000000   138.445000    27.596500   \n",
              "max      42.000000    85.000000     1.000000   215.490000    39.511000   \n",
              "\n",
              "       total_UPDRS    Jitter(%)  Jitter(Abs)   Jitter:RAP  Jitter:PPQ5  ...  \\\n",
              "count  5875.000000  5875.000000  5875.000000  5875.000000  5875.000000  ...   \n",
              "mean     29.018942     0.006154     0.000044     0.002987     0.003277  ...   \n",
              "std      10.700283     0.005624     0.000036     0.003124     0.003732  ...   \n",
              "min       7.000000     0.000830     0.000002     0.000330     0.000430  ...   \n",
              "25%      21.371000     0.003580     0.000022     0.001580     0.001820  ...   \n",
              "50%      27.576000     0.004900     0.000035     0.002250     0.002490  ...   \n",
              "75%      36.399000     0.006800     0.000053     0.003290     0.003460  ...   \n",
              "max      54.992000     0.099990     0.000446     0.057540     0.069560  ...   \n",
              "\n",
              "       Shimmer(dB)  Shimmer:APQ3  Shimmer:APQ5  Shimmer:APQ11  Shimmer:DDA  \\\n",
              "count  5875.000000   5875.000000   5875.000000    5875.000000  5875.000000   \n",
              "mean      0.310960      0.017156      0.020144       0.027481     0.051467   \n",
              "std       0.230254      0.013237      0.016664       0.019986     0.039711   \n",
              "min       0.026000      0.001610      0.001940       0.002490     0.004840   \n",
              "25%       0.175000      0.009280      0.010790       0.015665     0.027830   \n",
              "50%       0.253000      0.013700      0.015940       0.022710     0.041110   \n",
              "75%       0.365000      0.020575      0.023755       0.032715     0.061735   \n",
              "max       2.107000      0.162670      0.167020       0.275460     0.488020   \n",
              "\n",
              "               NHR          HNR         RPDE          DFA          PPE  \n",
              "count  5875.000000  5875.000000  5875.000000  5875.000000  5875.000000  \n",
              "mean      0.032120    21.679495     0.541473     0.653240     0.219589  \n",
              "std       0.059692     4.291096     0.100986     0.070902     0.091498  \n",
              "min       0.000286     1.659000     0.151020     0.514040     0.021983  \n",
              "25%       0.010955    19.406000     0.469785     0.596180     0.156340  \n",
              "50%       0.018448    21.920000     0.542250     0.643600     0.205500  \n",
              "75%       0.031463    24.444000     0.614045     0.711335     0.264490  \n",
              "max       0.748260    37.875000     0.966080     0.865600     0.731730  \n",
              "\n",
              "[8 rows x 22 columns]"
            ],
            "text/html": [
              "\n",
              "\n",
              "  <div id=\"df-4572a3a9-08ba-46f2-85e4-524a89ca04da\">\n",
              "    <div class=\"colab-df-container\">\n",
              "      <div>\n",
              "<style scoped>\n",
              "    .dataframe tbody tr th:only-of-type {\n",
              "        vertical-align: middle;\n",
              "    }\n",
              "\n",
              "    .dataframe tbody tr th {\n",
              "        vertical-align: top;\n",
              "    }\n",
              "\n",
              "    .dataframe thead th {\n",
              "        text-align: right;\n",
              "    }\n",
              "</style>\n",
              "<table border=\"1\" class=\"dataframe\">\n",
              "  <thead>\n",
              "    <tr style=\"text-align: right;\">\n",
              "      <th></th>\n",
              "      <th>subject#</th>\n",
              "      <th>age</th>\n",
              "      <th>sex</th>\n",
              "      <th>test_time</th>\n",
              "      <th>motor_UPDRS</th>\n",
              "      <th>total_UPDRS</th>\n",
              "      <th>Jitter(%)</th>\n",
              "      <th>Jitter(Abs)</th>\n",
              "      <th>Jitter:RAP</th>\n",
              "      <th>Jitter:PPQ5</th>\n",
              "      <th>...</th>\n",
              "      <th>Shimmer(dB)</th>\n",
              "      <th>Shimmer:APQ3</th>\n",
              "      <th>Shimmer:APQ5</th>\n",
              "      <th>Shimmer:APQ11</th>\n",
              "      <th>Shimmer:DDA</th>\n",
              "      <th>NHR</th>\n",
              "      <th>HNR</th>\n",
              "      <th>RPDE</th>\n",
              "      <th>DFA</th>\n",
              "      <th>PPE</th>\n",
              "    </tr>\n",
              "  </thead>\n",
              "  <tbody>\n",
              "    <tr>\n",
              "      <th>count</th>\n",
              "      <td>5875.000000</td>\n",
              "      <td>5875.000000</td>\n",
              "      <td>5875.000000</td>\n",
              "      <td>5875.000000</td>\n",
              "      <td>5875.000000</td>\n",
              "      <td>5875.000000</td>\n",
              "      <td>5875.000000</td>\n",
              "      <td>5875.000000</td>\n",
              "      <td>5875.000000</td>\n",
              "      <td>5875.000000</td>\n",
              "      <td>...</td>\n",
              "      <td>5875.000000</td>\n",
              "      <td>5875.000000</td>\n",
              "      <td>5875.000000</td>\n",
              "      <td>5875.000000</td>\n",
              "      <td>5875.000000</td>\n",
              "      <td>5875.000000</td>\n",
              "      <td>5875.000000</td>\n",
              "      <td>5875.000000</td>\n",
              "      <td>5875.000000</td>\n",
              "      <td>5875.000000</td>\n",
              "    </tr>\n",
              "    <tr>\n",
              "      <th>mean</th>\n",
              "      <td>21.494128</td>\n",
              "      <td>64.804936</td>\n",
              "      <td>0.317787</td>\n",
              "      <td>92.863722</td>\n",
              "      <td>21.296229</td>\n",
              "      <td>29.018942</td>\n",
              "      <td>0.006154</td>\n",
              "      <td>0.000044</td>\n",
              "      <td>0.002987</td>\n",
              "      <td>0.003277</td>\n",
              "      <td>...</td>\n",
              "      <td>0.310960</td>\n",
              "      <td>0.017156</td>\n",
              "      <td>0.020144</td>\n",
              "      <td>0.027481</td>\n",
              "      <td>0.051467</td>\n",
              "      <td>0.032120</td>\n",
              "      <td>21.679495</td>\n",
              "      <td>0.541473</td>\n",
              "      <td>0.653240</td>\n",
              "      <td>0.219589</td>\n",
              "    </tr>\n",
              "    <tr>\n",
              "      <th>std</th>\n",
              "      <td>12.372279</td>\n",
              "      <td>8.821524</td>\n",
              "      <td>0.465656</td>\n",
              "      <td>53.445602</td>\n",
              "      <td>8.129282</td>\n",
              "      <td>10.700283</td>\n",
              "      <td>0.005624</td>\n",
              "      <td>0.000036</td>\n",
              "      <td>0.003124</td>\n",
              "      <td>0.003732</td>\n",
              "      <td>...</td>\n",
              "      <td>0.230254</td>\n",
              "      <td>0.013237</td>\n",
              "      <td>0.016664</td>\n",
              "      <td>0.019986</td>\n",
              "      <td>0.039711</td>\n",
              "      <td>0.059692</td>\n",
              "      <td>4.291096</td>\n",
              "      <td>0.100986</td>\n",
              "      <td>0.070902</td>\n",
              "      <td>0.091498</td>\n",
              "    </tr>\n",
              "    <tr>\n",
              "      <th>min</th>\n",
              "      <td>1.000000</td>\n",
              "      <td>36.000000</td>\n",
              "      <td>0.000000</td>\n",
              "      <td>-4.262500</td>\n",
              "      <td>5.037700</td>\n",
              "      <td>7.000000</td>\n",
              "      <td>0.000830</td>\n",
              "      <td>0.000002</td>\n",
              "      <td>0.000330</td>\n",
              "      <td>0.000430</td>\n",
              "      <td>...</td>\n",
              "      <td>0.026000</td>\n",
              "      <td>0.001610</td>\n",
              "      <td>0.001940</td>\n",
              "      <td>0.002490</td>\n",
              "      <td>0.004840</td>\n",
              "      <td>0.000286</td>\n",
              "      <td>1.659000</td>\n",
              "      <td>0.151020</td>\n",
              "      <td>0.514040</td>\n",
              "      <td>0.021983</td>\n",
              "    </tr>\n",
              "    <tr>\n",
              "      <th>25%</th>\n",
              "      <td>10.000000</td>\n",
              "      <td>58.000000</td>\n",
              "      <td>0.000000</td>\n",
              "      <td>46.847500</td>\n",
              "      <td>15.000000</td>\n",
              "      <td>21.371000</td>\n",
              "      <td>0.003580</td>\n",
              "      <td>0.000022</td>\n",
              "      <td>0.001580</td>\n",
              "      <td>0.001820</td>\n",
              "      <td>...</td>\n",
              "      <td>0.175000</td>\n",
              "      <td>0.009280</td>\n",
              "      <td>0.010790</td>\n",
              "      <td>0.015665</td>\n",
              "      <td>0.027830</td>\n",
              "      <td>0.010955</td>\n",
              "      <td>19.406000</td>\n",
              "      <td>0.469785</td>\n",
              "      <td>0.596180</td>\n",
              "      <td>0.156340</td>\n",
              "    </tr>\n",
              "    <tr>\n",
              "      <th>50%</th>\n",
              "      <td>22.000000</td>\n",
              "      <td>65.000000</td>\n",
              "      <td>0.000000</td>\n",
              "      <td>91.523000</td>\n",
              "      <td>20.871000</td>\n",
              "      <td>27.576000</td>\n",
              "      <td>0.004900</td>\n",
              "      <td>0.000035</td>\n",
              "      <td>0.002250</td>\n",
              "      <td>0.002490</td>\n",
              "      <td>...</td>\n",
              "      <td>0.253000</td>\n",
              "      <td>0.013700</td>\n",
              "      <td>0.015940</td>\n",
              "      <td>0.022710</td>\n",
              "      <td>0.041110</td>\n",
              "      <td>0.018448</td>\n",
              "      <td>21.920000</td>\n",
              "      <td>0.542250</td>\n",
              "      <td>0.643600</td>\n",
              "      <td>0.205500</td>\n",
              "    </tr>\n",
              "    <tr>\n",
              "      <th>75%</th>\n",
              "      <td>33.000000</td>\n",
              "      <td>72.000000</td>\n",
              "      <td>1.000000</td>\n",
              "      <td>138.445000</td>\n",
              "      <td>27.596500</td>\n",
              "      <td>36.399000</td>\n",
              "      <td>0.006800</td>\n",
              "      <td>0.000053</td>\n",
              "      <td>0.003290</td>\n",
              "      <td>0.003460</td>\n",
              "      <td>...</td>\n",
              "      <td>0.365000</td>\n",
              "      <td>0.020575</td>\n",
              "      <td>0.023755</td>\n",
              "      <td>0.032715</td>\n",
              "      <td>0.061735</td>\n",
              "      <td>0.031463</td>\n",
              "      <td>24.444000</td>\n",
              "      <td>0.614045</td>\n",
              "      <td>0.711335</td>\n",
              "      <td>0.264490</td>\n",
              "    </tr>\n",
              "    <tr>\n",
              "      <th>max</th>\n",
              "      <td>42.000000</td>\n",
              "      <td>85.000000</td>\n",
              "      <td>1.000000</td>\n",
              "      <td>215.490000</td>\n",
              "      <td>39.511000</td>\n",
              "      <td>54.992000</td>\n",
              "      <td>0.099990</td>\n",
              "      <td>0.000446</td>\n",
              "      <td>0.057540</td>\n",
              "      <td>0.069560</td>\n",
              "      <td>...</td>\n",
              "      <td>2.107000</td>\n",
              "      <td>0.162670</td>\n",
              "      <td>0.167020</td>\n",
              "      <td>0.275460</td>\n",
              "      <td>0.488020</td>\n",
              "      <td>0.748260</td>\n",
              "      <td>37.875000</td>\n",
              "      <td>0.966080</td>\n",
              "      <td>0.865600</td>\n",
              "      <td>0.731730</td>\n",
              "    </tr>\n",
              "  </tbody>\n",
              "</table>\n",
              "<p>8 rows × 22 columns</p>\n",
              "</div>\n",
              "      <button class=\"colab-df-convert\" onclick=\"convertToInteractive('df-4572a3a9-08ba-46f2-85e4-524a89ca04da')\"\n",
              "              title=\"Convert this dataframe to an interactive table.\"\n",
              "              style=\"display:none;\">\n",
              "\n",
              "  <svg xmlns=\"http://www.w3.org/2000/svg\" height=\"24px\"viewBox=\"0 0 24 24\"\n",
              "       width=\"24px\">\n",
              "    <path d=\"M0 0h24v24H0V0z\" fill=\"none\"/>\n",
              "    <path d=\"M18.56 5.44l.94 2.06.94-2.06 2.06-.94-2.06-.94-.94-2.06-.94 2.06-2.06.94zm-11 1L8.5 8.5l.94-2.06 2.06-.94-2.06-.94L8.5 2.5l-.94 2.06-2.06.94zm10 10l.94 2.06.94-2.06 2.06-.94-2.06-.94-.94-2.06-.94 2.06-2.06.94z\"/><path d=\"M17.41 7.96l-1.37-1.37c-.4-.4-.92-.59-1.43-.59-.52 0-1.04.2-1.43.59L10.3 9.45l-7.72 7.72c-.78.78-.78 2.05 0 2.83L4 21.41c.39.39.9.59 1.41.59.51 0 1.02-.2 1.41-.59l7.78-7.78 2.81-2.81c.8-.78.8-2.07 0-2.86zM5.41 20L4 18.59l7.72-7.72 1.47 1.35L5.41 20z\"/>\n",
              "  </svg>\n",
              "      </button>\n",
              "\n",
              "\n",
              "\n",
              "    <div id=\"df-f4e538a1-d799-4340-ab7e-353d0eed5c5b\">\n",
              "      <button class=\"colab-df-quickchart\" onclick=\"quickchart('df-f4e538a1-d799-4340-ab7e-353d0eed5c5b')\"\n",
              "              title=\"Suggest charts.\"\n",
              "              style=\"display:none;\">\n",
              "\n",
              "<svg xmlns=\"http://www.w3.org/2000/svg\" height=\"24px\"viewBox=\"0 0 24 24\"\n",
              "     width=\"24px\">\n",
              "    <g>\n",
              "        <path d=\"M19 3H5c-1.1 0-2 .9-2 2v14c0 1.1.9 2 2 2h14c1.1 0 2-.9 2-2V5c0-1.1-.9-2-2-2zM9 17H7v-7h2v7zm4 0h-2V7h2v10zm4 0h-2v-4h2v4z\"/>\n",
              "    </g>\n",
              "</svg>\n",
              "      </button>\n",
              "    </div>\n",
              "\n",
              "<style>\n",
              "  .colab-df-quickchart {\n",
              "    background-color: #E8F0FE;\n",
              "    border: none;\n",
              "    border-radius: 50%;\n",
              "    cursor: pointer;\n",
              "    display: none;\n",
              "    fill: #1967D2;\n",
              "    height: 32px;\n",
              "    padding: 0 0 0 0;\n",
              "    width: 32px;\n",
              "  }\n",
              "\n",
              "  .colab-df-quickchart:hover {\n",
              "    background-color: #E2EBFA;\n",
              "    box-shadow: 0px 1px 2px rgba(60, 64, 67, 0.3), 0px 1px 3px 1px rgba(60, 64, 67, 0.15);\n",
              "    fill: #174EA6;\n",
              "  }\n",
              "\n",
              "  [theme=dark] .colab-df-quickchart {\n",
              "    background-color: #3B4455;\n",
              "    fill: #D2E3FC;\n",
              "  }\n",
              "\n",
              "  [theme=dark] .colab-df-quickchart:hover {\n",
              "    background-color: #434B5C;\n",
              "    box-shadow: 0px 1px 3px 1px rgba(0, 0, 0, 0.15);\n",
              "    filter: drop-shadow(0px 1px 2px rgba(0, 0, 0, 0.3));\n",
              "    fill: #FFFFFF;\n",
              "  }\n",
              "</style>\n",
              "\n",
              "    <script>\n",
              "      async function quickchart(key) {\n",
              "        const containerElement = document.querySelector('#' + key);\n",
              "        const charts = await google.colab.kernel.invokeFunction(\n",
              "            'suggestCharts', [key], {});\n",
              "      }\n",
              "    </script>\n",
              "\n",
              "      <script>\n",
              "\n",
              "function displayQuickchartButton(domScope) {\n",
              "  let quickchartButtonEl =\n",
              "    domScope.querySelector('#df-f4e538a1-d799-4340-ab7e-353d0eed5c5b button.colab-df-quickchart');\n",
              "  quickchartButtonEl.style.display =\n",
              "    google.colab.kernel.accessAllowed ? 'block' : 'none';\n",
              "}\n",
              "\n",
              "        displayQuickchartButton(document);\n",
              "      </script>\n",
              "      <style>\n",
              "    .colab-df-container {\n",
              "      display:flex;\n",
              "      flex-wrap:wrap;\n",
              "      gap: 12px;\n",
              "    }\n",
              "\n",
              "    .colab-df-convert {\n",
              "      background-color: #E8F0FE;\n",
              "      border: none;\n",
              "      border-radius: 50%;\n",
              "      cursor: pointer;\n",
              "      display: none;\n",
              "      fill: #1967D2;\n",
              "      height: 32px;\n",
              "      padding: 0 0 0 0;\n",
              "      width: 32px;\n",
              "    }\n",
              "\n",
              "    .colab-df-convert:hover {\n",
              "      background-color: #E2EBFA;\n",
              "      box-shadow: 0px 1px 2px rgba(60, 64, 67, 0.3), 0px 1px 3px 1px rgba(60, 64, 67, 0.15);\n",
              "      fill: #174EA6;\n",
              "    }\n",
              "\n",
              "    [theme=dark] .colab-df-convert {\n",
              "      background-color: #3B4455;\n",
              "      fill: #D2E3FC;\n",
              "    }\n",
              "\n",
              "    [theme=dark] .colab-df-convert:hover {\n",
              "      background-color: #434B5C;\n",
              "      box-shadow: 0px 1px 3px 1px rgba(0, 0, 0, 0.15);\n",
              "      filter: drop-shadow(0px 1px 2px rgba(0, 0, 0, 0.3));\n",
              "      fill: #FFFFFF;\n",
              "    }\n",
              "  </style>\n",
              "\n",
              "      <script>\n",
              "        const buttonEl =\n",
              "          document.querySelector('#df-4572a3a9-08ba-46f2-85e4-524a89ca04da button.colab-df-convert');\n",
              "        buttonEl.style.display =\n",
              "          google.colab.kernel.accessAllowed ? 'block' : 'none';\n",
              "\n",
              "        async function convertToInteractive(key) {\n",
              "          const element = document.querySelector('#df-4572a3a9-08ba-46f2-85e4-524a89ca04da');\n",
              "          const dataTable =\n",
              "            await google.colab.kernel.invokeFunction('convertToInteractive',\n",
              "                                                     [key], {});\n",
              "          if (!dataTable) return;\n",
              "\n",
              "          const docLinkHtml = 'Like what you see? Visit the ' +\n",
              "            '<a target=\"_blank\" href=https://colab.research.google.com/notebooks/data_table.ipynb>data table notebook</a>'\n",
              "            + ' to learn more about interactive tables.';\n",
              "          element.innerHTML = '';\n",
              "          dataTable['output_type'] = 'display_data';\n",
              "          await google.colab.output.renderOutput(dataTable, element);\n",
              "          const docLink = document.createElement('div');\n",
              "          docLink.innerHTML = docLinkHtml;\n",
              "          element.appendChild(docLink);\n",
              "        }\n",
              "      </script>\n",
              "    </div>\n",
              "  </div>\n"
            ]
          },
          "metadata": {},
          "execution_count": 9
        }
      ]
    },
    {
      "cell_type": "code",
      "source": [
        "data.shape"
      ],
      "metadata": {
        "colab": {
          "base_uri": "https://localhost:8080/"
        },
        "id": "7EiS-y707drq",
        "outputId": "b29a0703-4be8-462e-ce33-1a4a033a66bb"
      },
      "execution_count": null,
      "outputs": [
        {
          "output_type": "execute_result",
          "data": {
            "text/plain": [
              "(5875, 22)"
            ]
          },
          "metadata": {},
          "execution_count": 10
        }
      ]
    },
    {
      "cell_type": "code",
      "source": [
        "data.isnull().sum()"
      ],
      "metadata": {
        "colab": {
          "base_uri": "https://localhost:8080/"
        },
        "id": "0EWcsLmu7g5H",
        "outputId": "ae86bd27-1548-4396-9c85-5b54a413c4ac"
      },
      "execution_count": null,
      "outputs": [
        {
          "output_type": "execute_result",
          "data": {
            "text/plain": [
              "subject#         0\n",
              "age              0\n",
              "sex              0\n",
              "test_time        0\n",
              "motor_UPDRS      0\n",
              "total_UPDRS      0\n",
              "Jitter(%)        0\n",
              "Jitter(Abs)      0\n",
              "Jitter:RAP       0\n",
              "Jitter:PPQ5      0\n",
              "Jitter:DDP       0\n",
              "Shimmer          0\n",
              "Shimmer(dB)      0\n",
              "Shimmer:APQ3     0\n",
              "Shimmer:APQ5     0\n",
              "Shimmer:APQ11    0\n",
              "Shimmer:DDA      0\n",
              "NHR              0\n",
              "HNR              0\n",
              "RPDE             0\n",
              "DFA              0\n",
              "PPE              0\n",
              "dtype: int64"
            ]
          },
          "metadata": {},
          "execution_count": 11
        }
      ]
    },
    {
      "cell_type": "code",
      "source": [
        "data.dtypes"
      ],
      "metadata": {
        "colab": {
          "base_uri": "https://localhost:8080/"
        },
        "id": "obtdEg02bhry",
        "outputId": "06a2b40d-c5cf-46eb-94dc-45f59bfc1f3e"
      },
      "execution_count": null,
      "outputs": [
        {
          "output_type": "execute_result",
          "data": {
            "text/plain": [
              "subject#           int64\n",
              "age                int64\n",
              "sex                int64\n",
              "test_time        float64\n",
              "motor_UPDRS      float64\n",
              "total_UPDRS      float64\n",
              "Jitter(%)        float64\n",
              "Jitter(Abs)      float64\n",
              "Jitter:RAP       float64\n",
              "Jitter:PPQ5      float64\n",
              "Jitter:DDP       float64\n",
              "Shimmer          float64\n",
              "Shimmer(dB)      float64\n",
              "Shimmer:APQ3     float64\n",
              "Shimmer:APQ5     float64\n",
              "Shimmer:APQ11    float64\n",
              "Shimmer:DDA      float64\n",
              "NHR              float64\n",
              "HNR              float64\n",
              "RPDE             float64\n",
              "DFA              float64\n",
              "PPE              float64\n",
              "dtype: object"
            ]
          },
          "metadata": {},
          "execution_count": 12
        }
      ]
    },
    {
      "cell_type": "markdown",
      "source": [
        "# DATA VISUALIZATION"
      ],
      "metadata": {
        "id": "orShemGg1WgQ"
      }
    },
    {
      "cell_type": "code",
      "source": [
        "sns.heatmap(data.corr())\n",
        "sns.set(font_scale=0.25)\n",
        "plt.show()"
      ],
      "metadata": {
        "colab": {
          "base_uri": "https://localhost:8080/",
          "height": 535
        },
        "id": "kf5yzIVk7ipY",
        "outputId": "17dd5e94-4a09-4356-b22f-dd89c104e852"
      },
      "execution_count": null,
      "outputs": [
        {
          "output_type": "display_data",
          "data": {
            "text/plain": [
              "<Figure size 640x480 with 2 Axes>"
            ],
            "image/png": "[encoded data removed]"
          },
          "metadata": {}
        }
      ]
    },
    {
      "cell_type": "code",
      "source": [
        "data.columns"
      ],
      "metadata": {
        "colab": {
          "base_uri": "https://localhost:8080/"
        },
        "id": "-28rAxW0cdFf",
        "outputId": "4eafdb1a-2ea1-4706-91f4-eb0a8a0dbdb9"
      },
      "execution_count": null,
      "outputs": [
        {
          "output_type": "execute_result",
          "data": {
            "text/plain": [
              "Index(['subject#', 'age', 'sex', 'test_time', 'motor_UPDRS', 'total_UPDRS',\n",
              "       'Jitter(%)', 'Jitter(Abs)', 'Jitter:RAP', 'Jitter:PPQ5', 'Jitter:DDP',\n",
              "       'Shimmer', 'Shimmer(dB)', 'Shimmer:APQ3', 'Shimmer:APQ5',\n",
              "       'Shimmer:APQ11', 'Shimmer:DDA', 'NHR', 'HNR', 'RPDE', 'DFA', 'PPE'],\n",
              "      dtype='object')"
            ]
          },
          "metadata": {},
          "execution_count": 14
        }
      ]
    },
    {
      "cell_type": "code",
      "source": [
        "data['age'].unique()"
      ],
      "metadata": {
        "colab": {
          "base_uri": "https://localhost:8080/"
        },
        "id": "WqUlEbljcesK",
        "outputId": "de303dd0-1b46-4b37-8283-3a86d64a4505"
      },
      "execution_count": null,
      "outputs": [
        {
          "output_type": "execute_result",
          "data": {
            "text/plain": [
              "array([72, 58, 57, 74, 75, 63, 73, 68, 55, 62, 65, 66, 67, 59, 60, 76, 49,\n",
              "       78, 36, 71, 56, 85, 61])"
            ]
          },
          "metadata": {},
          "execution_count": 15
        }
      ]
    },
    {
      "cell_type": "code",
      "source": [
        "data['sex'].unique()"
      ],
      "metadata": {
        "colab": {
          "base_uri": "https://localhost:8080/"
        },
        "id": "Yhebty0Dclu7",
        "outputId": "20a5479e-c342-418f-9bc9-1ee538d45ddd"
      },
      "execution_count": null,
      "outputs": [
        {
          "output_type": "execute_result",
          "data": {
            "text/plain": [
              "array([0, 1])"
            ]
          },
          "metadata": {},
          "execution_count": 16
        }
      ]
    },
    {
      "cell_type": "code",
      "source": [
        "data.rename(columns={'subject#' : 'subject'}, inplace=True)"
      ],
      "metadata": {
        "id": "o8-H2hjecnGs"
      },
      "execution_count": null,
      "outputs": []
    },
    {
      "cell_type": "code",
      "source": [
        "data['subject'].unique()"
      ],
      "metadata": {
        "colab": {
          "base_uri": "https://localhost:8080/"
        },
        "id": "V_RA-EGHcxny",
        "outputId": "76ead854-8dfe-4bd2-ed66-785f7a412d84"
      },
      "execution_count": null,
      "outputs": [
        {
          "output_type": "execute_result",
          "data": {
            "text/plain": [
              "array([ 1,  2,  3,  4,  5,  6,  7,  8,  9, 10, 11, 12, 13, 14, 15, 16, 17,\n",
              "       18, 19, 20, 21, 22, 23, 24, 25, 26, 27, 28, 29, 30, 31, 32, 33, 34,\n",
              "       35, 36, 37, 38, 39, 40, 41, 42])"
            ]
          },
          "metadata": {},
          "execution_count": 18
        }
      ]
    },
    {
      "cell_type": "code",
      "source": [
        "sns.boxplot(x=data.test_time)\n",
        "plt.title('test_time', fontsize = 10)\n",
        "plt.show()"
      ],
      "metadata": {
        "colab": {
          "base_uri": "https://localhost:8080/",
          "height": 452
        },
        "id": "86ppn5ZLczyX",
        "outputId": "bc3c543a-251f-4fce-a2ec-8ed21b603b33"
      },
      "execution_count": null,
      "outputs": [
        {
          "output_type": "display_data",
          "data": {
            "text/plain": [
              "<Figure size 640x480 with 1 Axes>"
            ],
            "image/png": "[encoded data removed]"
          },
          "metadata": {}
        }
      ]
    },
    {
      "cell_type": "code",
      "source": [
        "sns.boxplot(data=data[[ 'age', 'sex', 'test_time', 'motor_UPDRS', 'total_UPDRS',\n",
        "       'Jitter(%)', 'Jitter(Abs)', 'Jitter:RAP', 'Jitter:PPQ5', 'Jitter:DDP',\n",
        "       'Shimmer', 'Shimmer(dB)', 'Shimmer:APQ3', 'Shimmer:APQ5',\n",
        "       'Shimmer:APQ11', 'Shimmer:DDA', 'NHR', 'HNR', 'RPDE', 'DFA', 'PPE']], orient=\"V\")"
      ],
      "metadata": {
        "colab": {
          "base_uri": "https://localhost:8080/",
          "height": 440
        },
        "id": "z3mhDTGehlj2",
        "outputId": "c0864df1-7a40-40b6-afac-131a6796ba56"
      },
      "execution_count": null,
      "outputs": [
        {
          "output_type": "execute_result",
          "data": {
            "text/plain": [
              "<Axes: >"
            ]
          },
          "metadata": {},
          "execution_count": 20
        },
        {
          "output_type": "display_data",
          "data": {
            "text/plain": [
              "<Figure size 640x480 with 1 Axes>"
            ],
            "image/png": "[encoded data removed]"
          },
          "metadata": {}
        }
      ]
    },
    {
      "cell_type": "code",
      "source": [
        "sns.boxplot(data=data[['Jitter(%)', 'Jitter(Abs)', 'Jitter:RAP', 'Jitter:PPQ5', 'Jitter:DDP']], orient=\"V\")"
      ],
      "metadata": {
        "colab": {
          "base_uri": "https://localhost:8080/",
          "height": 440
        },
        "id": "-1enU_hhikXo",
        "outputId": "24d3baf4-b04b-44d8-c232-80089d1ed3c4"
      },
      "execution_count": null,
      "outputs": [
        {
          "output_type": "execute_result",
          "data": {
            "text/plain": [
              "<Axes: >"
            ]
          },
          "metadata": {},
          "execution_count": 21
        },
        {
          "output_type": "display_data",
          "data": {
            "text/plain": [
              "<Figure size 640x480 with 1 Axes>"
            ],
            "image/png": "[encoded data removed]"
          },
          "metadata": {}
        }
      ]
    },
    {
      "cell_type": "code",
      "source": [
        "data.rename(columns={'Jitter(%)' : 'Jitter'}, inplace=True)"
      ],
      "metadata": {
        "id": "2Jvyzi-EjJ5_"
      },
      "execution_count": null,
      "outputs": []
    },
    {
      "cell_type": "code",
      "source": [
        "sns.boxplot(x=data.Jitter)\n",
        "plt.title('Jitter(%)', fontsize = 10)\n",
        "plt.show()"
      ],
      "metadata": {
        "colab": {
          "base_uri": "https://localhost:8080/",
          "height": 452
        },
        "id": "lLGnZR4yju8q",
        "outputId": "29923ed4-fe1a-4667-d754-bfe84e4a0156"
      },
      "execution_count": null,
      "outputs": [
        {
          "output_type": "display_data",
          "data": {
            "text/plain": [
              "<Figure size 640x480 with 1 Axes>"
            ],
            "image/png": "[encoded data removed]"
          },
          "metadata": {}
        }
      ]
    },
    {
      "cell_type": "markdown",
      "source": [
        "# TRAINING AND TESTING\n",
        "\n"
      ],
      "metadata": {
        "id": "niHxeiJI1_6p"
      }
    },
    {
      "cell_type": "code",
      "source": [
        "X=data[[ 'age', 'test_time', 'motor_UPDRS', 'total_UPDRS',\n",
        "       'Jitter', 'Jitter(Abs)', 'Jitter:RAP', 'Jitter:PPQ5', 'Jitter:DDP',\n",
        "       'Shimmer', 'Shimmer(dB)', 'Shimmer:APQ3', 'Shimmer:APQ5',\n",
        "       'Shimmer:APQ11', 'Shimmer:DDA', 'NHR', 'HNR', 'RPDE', 'DFA', 'PPE']]\n",
        "Y=data[['sex']]"
      ],
      "metadata": {
        "id": "YXAgzBIykd86"
      },
      "execution_count": null,
      "outputs": []
    },
    {
      "cell_type": "code",
      "source": [
        "from sklearn.model_selection import train_test_split\n",
        "x_train,x_test,y_train,y_test= train_test_split(X,Y,test_size=0.2, random_state= 4)"
      ],
      "metadata": {
        "id": "33YS8ouL8p7Z"
      },
      "execution_count": null,
      "outputs": []
    },
    {
      "cell_type": "code",
      "source": [
        "from sklearn.linear_model import LogisticRegression\n",
        "from sklearn.tree import DecisionTreeClassifier\n",
        "from sklearn.ensemble import RandomForestClassifier\n",
        "from sklearn.svm import SVC\n",
        "LogReg=LogisticRegression()\n",
        "DT = DecisionTreeClassifier() #storing the classifer in dt\n",
        "RF = RandomForestClassifier(n_estimators=10)\n",
        "SVM= SVC(kernel= 'poly', degree=2)"
      ],
      "metadata": {
        "id": "8qxkomYLl96l"
      },
      "execution_count": null,
      "outputs": []
    },
    {
      "cell_type": "code",
      "source": [
        "#fitting tHe model\n",
        "LogReg.fit(x_train,y_train)\n",
        "DT.fit(x_train,y_train)\n",
        "RF.fit(x_train,y_train)\n",
        "SVM.fit(x_train,y_train)"
      ],
      "metadata": {
        "colab": {
          "base_uri": "https://localhost:8080/",
          "height": 74
        },
        "id": "tonLooj8nDiM",
        "outputId": "6f5eb61f-51ba-4305-fef4-d86d7f3f05fa"
      },
      "execution_count": null,
      "outputs": [
        {
          "output_type": "execute_result",
          "data": {
            "text/plain": [
              "SVC(degree=2, kernel='poly')"
            ],
            "text/html": [
              "<style>#sk-container-id-1 {color: black;background-color: white;}#sk-container-id-1 pre{padding: 0;}#sk-container-id-1 div.sk-toggleable {background-color: white;}#sk-container-id-1 label.sk-toggleable__label {cursor: pointer;display: block;width: 100%;margin-bottom: 0;padding: 0.3em;box-sizing: border-box;text-align: center;}#sk-container-id-1 label.sk-toggleable__label-arrow:before {content: \"▸\";float: left;margin-right: 0.25em;color: #696969;}#sk-container-id-1 label.sk-toggleable__label-arrow:hover:before {color: black;}#sk-container-id-1 div.sk-estimator:hover label.sk-toggleable__label-arrow:before {color: black;}#sk-container-id-1 div.sk-toggleable__content {max-height: 0;max-width: 0;overflow: hidden;text-align: left;background-color: #f0f8ff;}#sk-container-id-1 div.sk-toggleable__content pre {margin: 0.2em;color: black;border-radius: 0.25em;background-color: #f0f8ff;}#sk-container-id-1 input.sk-toggleable__control:checked~div.sk-toggleable__content {max-height: 200px;max-width: 100%;overflow: auto;}#sk-container-id-1 input.sk-toggleable__control:checked~label.sk-toggleable__label-arrow:before {content: \"▾\";}#sk-container-id-1 div.sk-estimator input.sk-toggleable__control:checked~label.sk-toggleable__label {background-color: #d4ebff;}#sk-container-id-1 div.sk-label input.sk-toggleable__control:checked~label.sk-toggleable__label {background-color: #d4ebff;}#sk-container-id-1 input.sk-hidden--visually {border: 0;clip: rect(1px 1px 1px 1px);clip: rect(1px, 1px, 1px, 1px);height: 1px;margin: -1px;overflow: hidden;padding: 0;position: absolute;width: 1px;}#sk-container-id-1 div.sk-estimator {font-family: monospace;background-color: #f0f8ff;border: 1px dotted black;border-radius: 0.25em;box-sizing: border-box;margin-bottom: 0.5em;}#sk-container-id-1 div.sk-estimator:hover {background-color: #d4ebff;}#sk-container-id-1 div.sk-parallel-item::after {content: \"\";width: 100%;border-bottom: 1px solid gray;flex-grow: 1;}#sk-container-id-1 div.sk-label:hover label.sk-toggleable__label {background-color: #d4ebff;}#sk-container-id-1 div.sk-serial::before {content: \"\";position: absolute;border-left: 1px solid gray;box-sizing: border-box;top: 0;bottom: 0;left: 50%;z-index: 0;}#sk-container-id-1 div.sk-serial {display: flex;flex-direction: column;align-items: center;background-color: white;padding-right: 0.2em;padding-left: 0.2em;position: relative;}#sk-container-id-1 div.sk-item {position: relative;z-index: 1;}#sk-container-id-1 div.sk-parallel {display: flex;align-items: stretch;justify-content: center;background-color: white;position: relative;}#sk-container-id-1 div.sk-item::before, #sk-container-id-1 div.sk-parallel-item::before {content: \"\";position: absolute;border-left: 1px solid gray;box-sizing: border-box;top: 0;bottom: 0;left: 50%;z-index: -1;}#sk-container-id-1 div.sk-parallel-item {display: flex;flex-direction: column;z-index: 1;position: relative;background-color: white;}#sk-container-id-1 div.sk-parallel-item:first-child::after {align-self: flex-end;width: 50%;}#sk-container-id-1 div.sk-parallel-item:last-child::after {align-self: flex-start;width: 50%;}#sk-container-id-1 div.sk-parallel-item:only-child::after {width: 0;}#sk-container-id-1 div.sk-dashed-wrapped {border: 1px dashed gray;margin: 0 0.4em 0.5em 0.4em;box-sizing: border-box;padding-bottom: 0.4em;background-color: white;}#sk-container-id-1 div.sk-label label {font-family: monospace;font-weight: bold;display: inline-block;line-height: 1.2em;}#sk-container-id-1 div.sk-label-container {text-align: center;}#sk-container-id-1 div.sk-container {/* jupyter's `normalize.less` sets `[hidden] { display: none; }` but bootstrap.min.css set `[hidden] { display: none !important; }` so we also need the `!important` here to be able to override the default hidden behavior on the sphinx rendered scikit-learn.org. See: https://github.com/scikit-learn/scikit-learn/issues/21755 */display: inline-block !important;position: relative;}#sk-container-id-1 div.sk-text-repr-fallback {display: none;}</style><div id=\"sk-container-id-1\" class=\"sk-top-container\"><div class=\"sk-text-repr-fallback\"><pre>SVC(degree=2, kernel=&#x27;poly&#x27;)</pre><b>In a Jupyter environment, please rerun this cell to show the HTML representation or trust the notebook. <br />On GitHub, the HTML representation is unable to render, please try loading this page with nbviewer.org.</b></div><div class=\"sk-container\" hidden><div class=\"sk-item\"><div class=\"sk-estimator sk-toggleable\"><input class=\"sk-toggleable__control sk-hidden--visually\" id=\"sk-estimator-id-1\" type=\"checkbox\" checked><label for=\"sk-estimator-id-1\" class=\"sk-toggleable__label sk-toggleable__label-arrow\">SVC</label><div class=\"sk-toggleable__content\"><pre>SVC(degree=2, kernel=&#x27;poly&#x27;)</pre></div></div></div></div></div>"
            ]
          },
          "metadata": {},
          "execution_count": 27
        }
      ]
    },
    {
      "cell_type": "code",
      "source": [
        "print(LogReg.score(x_train,y_train))\n",
        "LogReg.score(x_test,y_test)"
      ],
      "metadata": {
        "colab": {
          "base_uri": "https://localhost:8080/"
        },
        "id": "54JQJv_wnwts",
        "outputId": "fd817c99-ba4a-4138-a2b4-8e38618543c1"
      },
      "execution_count": null,
      "outputs": [
        {
          "output_type": "stream",
          "name": "stdout",
          "text": [
            "0.7038297872340425\n"
          ]
        },
        {
          "output_type": "execute_result",
          "data": {
            "text/plain": [
              "0.691063829787234"
            ]
          },
          "metadata": {},
          "execution_count": 28
        }
      ]
    },
    {
      "cell_type": "code",
      "source": [
        "print(DT.score(x_train,y_train))\n",
        "DT.score(x_test,y_test)\n"
      ],
      "metadata": {
        "colab": {
          "base_uri": "https://localhost:8080/"
        },
        "id": "AUuNalr6n7wb",
        "outputId": "e427427f-0464-4d25-da5d-5d0fbdbad610"
      },
      "execution_count": null,
      "outputs": [
        {
          "output_type": "stream",
          "name": "stdout",
          "text": [
            "1.0\n"
          ]
        },
        {
          "output_type": "execute_result",
          "data": {
            "text/plain": [
              "0.9591489361702128"
            ]
          },
          "metadata": {},
          "execution_count": 29
        }
      ]
    },
    {
      "cell_type": "code",
      "source": [
        "#so our model is overfitting"
      ],
      "metadata": {
        "id": "E6Mjt20t6WLO"
      },
      "execution_count": null,
      "outputs": []
    },
    {
      "cell_type": "code",
      "source": [
        "print(RF.score(x_train,y_train))\n",
        "RF.score(x_test,y_test)\n"
      ],
      "metadata": {
        "colab": {
          "base_uri": "https://localhost:8080/"
        },
        "id": "YspGA5QPoGB8",
        "outputId": "585ce58a-66d8-46a9-8f73-579691ccd0a9"
      },
      "execution_count": null,
      "outputs": [
        {
          "output_type": "stream",
          "name": "stdout",
          "text": [
            "0.997872340425532\n"
          ]
        },
        {
          "output_type": "execute_result",
          "data": {
            "text/plain": [
              "0.9548936170212766"
            ]
          },
          "metadata": {},
          "execution_count": 31
        }
      ]
    },
    {
      "cell_type": "code",
      "source": [
        "#so our model is overfitting"
      ],
      "metadata": {
        "id": "VDpafTap6YaE"
      },
      "execution_count": null,
      "outputs": []
    },
    {
      "cell_type": "code",
      "source": [
        "print(SVM.score(x_train,y_train))\n",
        "SVM.score(x_test,y_test)"
      ],
      "metadata": {
        "colab": {
          "base_uri": "https://localhost:8080/"
        },
        "id": "uDAQMNDooRJ4",
        "outputId": "ee1c27d0-ea43-4bf1-f9fb-4f8ed976d1be"
      },
      "execution_count": null,
      "outputs": [
        {
          "output_type": "stream",
          "name": "stdout",
          "text": [
            "0.685531914893617\n"
          ]
        },
        {
          "output_type": "execute_result",
          "data": {
            "text/plain": [
              "0.668936170212766"
            ]
          },
          "metadata": {},
          "execution_count": 33
        }
      ]
    },
    {
      "cell_type": "code",
      "source": [
        "new_predict1=LogReg.predict([[72,5.6431,28.199,34.398,0.00662,3.38E-05,0.00401,0.00317,0.01204,0.02565,0.23,0.01438,0.01309,0.01662,0.04314,0.01429,21.64,0.41888,0.54842,0.16006]])\n",
        "print('new_predict LogReg',new_predict1)\n",
        "new_predict2=DT.predict([[72,5.6431,28.199,34.398,0.00662,3.38E-05,0.00401,0.00317,0.01204,0.02565,0.23,0.01438,0.01309,0.01662,0.04314,0.01429,21.64,0.41888,0.54842,0.16006]])\n",
        "print('new_predict DT',new_predict2)\n",
        "new_predict3=RF.predict([[72,5.6431,28.199,34.398,0.00662,3.38E-05,0.00401,0.00317,0.01204,0.02565,0.23,0.01438,0.01309,0.01662,0.04314,0.01429,21.64,0.41888,0.54842,0.16006]])\n",
        "print('new_predict RF',new_predict3)\n",
        "new_predict6=SVM.predict([[72,5.6431,28.199,34.398,0.00662,3.38E-05,0.00401,0.00317,0.01204,0.02565,0.23,0.01438,0.01309,0.01662,0.04314,0.01429,21.64,0.41888,0.54842,0.16006]])\n",
        "print('new_predict SVM',new_predict6)"
      ],
      "metadata": {
        "colab": {
          "base_uri": "https://localhost:8080/"
        },
        "id": "FbnZSERqoYeO",
        "outputId": "e8483ea5-5630-41aa-e327-5b87ab065a11"
      },
      "execution_count": null,
      "outputs": [
        {
          "output_type": "stream",
          "name": "stdout",
          "text": [
            "new_predict LogReg [0]\n",
            "new_predict DT [0]\n",
            "new_predict RF [0]\n",
            "new_predict SVM [0]\n"
          ]
        }
      ]
    },
    {
      "cell_type": "code",
      "source": [
        "new_predict7=LogReg.predict([[73,162.61,22.104,28.104,0.00319,1.75E-05,0.0014,0.00152,0.00419,0.01969,0.193,0.00994,0.01186,0.01634,0.02981,0.025368,24.133,0.54047,0.62628,0.18905]])\n",
        "print('new_predict2 LogReg',new_predict7)\n",
        "new_predict8=DT.predict([[73,162.61,22.104,28.104,0.00319,1.75E-05,0.0014,0.00152,0.00419,0.01969,0.193,0.00994,0.01186,0.01634,0.02981,0.025368,24.133,0.54047,0.62628,0.18905]])\n",
        "print('new_predict2 DT',new_predict8)\n",
        "new_predict9=RF.predict([[73,162.61,22.104,28.104,0.00319,1.75E-05,0.0014,0.00152,0.00419,0.01969,0.193,0.00994,0.01186,0.01634,0.02981,0.025368,24.133,0.54047,0.62628,0.18905]])\n",
        "print('new_predict2 RF',new_predict9)\n",
        "new_predict12=SVM.predict([[73,162.61,22.104,28.104,0.00319,1.75E-05,0.0014,0.00152,0.00419,0.01969,0.193,0.00994,0.01186,0.01634,0.02981,0.025368,24.133,0.54047,0.62628,0.18905]])\n",
        "print('new_predict2 SVM',new_predict12)"
      ],
      "metadata": {
        "colab": {
          "base_uri": "https://localhost:8080/"
        },
        "id": "07_g35wGooyC",
        "outputId": "0f3a56c0-adc0-4303-d7b9-d6ae823cd2ed"
      },
      "execution_count": null,
      "outputs": [
        {
          "output_type": "stream",
          "name": "stdout",
          "text": [
            "new_predict2 LogReg [0]\n",
            "new_predict2 DT [1]\n",
            "new_predict2 RF [1]\n",
            "new_predict2 SVM [0]\n"
          ]
        }
      ]
    },
    {
      "cell_type": "code",
      "source": [
        "from sklearn.ensemble import VotingClassifier\n",
        "EVC = VotingClassifier(estimators=[('lr',LogReg),('dt',DT),(\"rf\",RF),('svm',SVM)],voting='hard')"
      ],
      "metadata": {
        "id": "MNeetGSio-bh"
      },
      "execution_count": null,
      "outputs": []
    },
    {
      "cell_type": "code",
      "source": [
        "EVC.fit(x_train,y_train)"
      ],
      "metadata": {
        "colab": {
          "base_uri": "https://localhost:8080/",
          "height": 109
        },
        "id": "6eikOZYgpOZ9",
        "outputId": "dc9c9a2f-b03d-4833-dd1e-f12c2700db13"
      },
      "execution_count": null,
      "outputs": [
        {
          "output_type": "execute_result",
          "data": {
            "text/plain": [
              "VotingClassifier(estimators=[('lr', LogisticRegression()),\n",
              "                             ('dt', DecisionTreeClassifier()),\n",
              "                             ('rf', RandomForestClassifier(n_estimators=10)),\n",
              "                             ('svm', SVC(degree=2, kernel='poly'))])"
            ],
            "text/html": [
              "<style>#sk-container-id-2 {color: black;background-color: white;}#sk-container-id-2 pre{padding: 0;}#sk-container-id-2 div.sk-toggleable {background-color: white;}#sk-container-id-2 label.sk-toggleable__label {cursor: pointer;display: block;width: 100%;margin-bottom: 0;padding: 0.3em;box-sizing: border-box;text-align: center;}#sk-container-id-2 label.sk-toggleable__label-arrow:before {content: \"▸\";float: left;margin-right: 0.25em;color: #696969;}#sk-container-id-2 label.sk-toggleable__label-arrow:hover:before {color: black;}#sk-container-id-2 div.sk-estimator:hover label.sk-toggleable__label-arrow:before {color: black;}#sk-container-id-2 div.sk-toggleable__content {max-height: 0;max-width: 0;overflow: hidden;text-align: left;background-color: #f0f8ff;}#sk-container-id-2 div.sk-toggleable__content pre {margin: 0.2em;color: black;border-radius: 0.25em;background-color: #f0f8ff;}#sk-container-id-2 input.sk-toggleable__control:checked~div.sk-toggleable__content {max-height: 200px;max-width: 100%;overflow: auto;}#sk-container-id-2 input.sk-toggleable__control:checked~label.sk-toggleable__label-arrow:before {content: \"▾\";}#sk-container-id-2 div.sk-estimator input.sk-toggleable__control:checked~label.sk-toggleable__label {background-color: #d4ebff;}#sk-container-id-2 div.sk-label input.sk-toggleable__control:checked~label.sk-toggleable__label {background-color: #d4ebff;}#sk-container-id-2 input.sk-hidden--visually {border: 0;clip: rect(1px 1px 1px 1px);clip: rect(1px, 1px, 1px, 1px);height: 1px;margin: -1px;overflow: hidden;padding: 0;position: absolute;width: 1px;}#sk-container-id-2 div.sk-estimator {font-family: monospace;background-color: #f0f8ff;border: 1px dotted black;border-radius: 0.25em;box-sizing: border-box;margin-bottom: 0.5em;}#sk-container-id-2 div.sk-estimator:hover {background-color: #d4ebff;}#sk-container-id-2 div.sk-parallel-item::after {content: \"\";width: 100%;border-bottom: 1px solid gray;flex-grow: 1;}#sk-container-id-2 div.sk-label:hover label.sk-toggleable__label {background-color: #d4ebff;}#sk-container-id-2 div.sk-serial::before {content: \"\";position: absolute;border-left: 1px solid gray;box-sizing: border-box;top: 0;bottom: 0;left: 50%;z-index: 0;}#sk-container-id-2 div.sk-serial {display: flex;flex-direction: column;align-items: center;background-color: white;padding-right: 0.2em;padding-left: 0.2em;position: relative;}#sk-container-id-2 div.sk-item {position: relative;z-index: 1;}#sk-container-id-2 div.sk-parallel {display: flex;align-items: stretch;justify-content: center;background-color: white;position: relative;}#sk-container-id-2 div.sk-item::before, #sk-container-id-2 div.sk-parallel-item::before {content: \"\";position: absolute;border-left: 1px solid gray;box-sizing: border-box;top: 0;bottom: 0;left: 50%;z-index: -1;}#sk-container-id-2 div.sk-parallel-item {display: flex;flex-direction: column;z-index: 1;position: relative;background-color: white;}#sk-container-id-2 div.sk-parallel-item:first-child::after {align-self: flex-end;width: 50%;}#sk-container-id-2 div.sk-parallel-item:last-child::after {align-self: flex-start;width: 50%;}#sk-container-id-2 div.sk-parallel-item:only-child::after {width: 0;}#sk-container-id-2 div.sk-dashed-wrapped {border: 1px dashed gray;margin: 0 0.4em 0.5em 0.4em;box-sizing: border-box;padding-bottom: 0.4em;background-color: white;}#sk-container-id-2 div.sk-label label {font-family: monospace;font-weight: bold;display: inline-block;line-height: 1.2em;}#sk-container-id-2 div.sk-label-container {text-align: center;}#sk-container-id-2 div.sk-container {/* jupyter's `normalize.less` sets `[hidden] { display: none; }` but bootstrap.min.css set `[hidden] { display: none !important; }` so we also need the `!important` here to be able to override the default hidden behavior on the sphinx rendered scikit-learn.org. See: https://github.com/scikit-learn/scikit-learn/issues/21755 */display: inline-block !important;position: relative;}#sk-container-id-2 div.sk-text-repr-fallback {display: none;}</style><div id=\"sk-container-id-2\" class=\"sk-top-container\"><div class=\"sk-text-repr-fallback\"><pre>VotingClassifier(estimators=[(&#x27;lr&#x27;, LogisticRegression()),\n",
              "                             (&#x27;dt&#x27;, DecisionTreeClassifier()),\n",
              "                             (&#x27;rf&#x27;, RandomForestClassifier(n_estimators=10)),\n",
              "                             (&#x27;svm&#x27;, SVC(degree=2, kernel=&#x27;poly&#x27;))])</pre><b>In a Jupyter environment, please rerun this cell to show the HTML representation or trust the notebook. <br />On GitHub, the HTML representation is unable to render, please try loading this page with nbviewer.org.</b></div><div class=\"sk-container\" hidden><div class=\"sk-item sk-dashed-wrapped\"><div class=\"sk-label-container\"><div class=\"sk-label sk-toggleable\"><input class=\"sk-toggleable__control sk-hidden--visually\" id=\"sk-estimator-id-2\" type=\"checkbox\" ><label for=\"sk-estimator-id-2\" class=\"sk-toggleable__label sk-toggleable__label-arrow\">VotingClassifier</label><div class=\"sk-toggleable__content\"><pre>VotingClassifier(estimators=[(&#x27;lr&#x27;, LogisticRegression()),\n",
              "                             (&#x27;dt&#x27;, DecisionTreeClassifier()),\n",
              "                             (&#x27;rf&#x27;, RandomForestClassifier(n_estimators=10)),\n",
              "                             (&#x27;svm&#x27;, SVC(degree=2, kernel=&#x27;poly&#x27;))])</pre></div></div></div><div class=\"sk-parallel\"><div class=\"sk-parallel-item\"><div class=\"sk-item\"><div class=\"sk-label-container\"><div class=\"sk-label sk-toggleable\"><label>lr</label></div></div><div class=\"sk-serial\"><div class=\"sk-item\"><div class=\"sk-estimator sk-toggleable\"><input class=\"sk-toggleable__control sk-hidden--visually\" id=\"sk-estimator-id-3\" type=\"checkbox\" ><label for=\"sk-estimator-id-3\" class=\"sk-toggleable__label sk-toggleable__label-arrow\">LogisticRegression</label><div class=\"sk-toggleable__content\"><pre>LogisticRegression()</pre></div></div></div></div></div></div><div class=\"sk-parallel-item\"><div class=\"sk-item\"><div class=\"sk-label-container\"><div class=\"sk-label sk-toggleable\"><label>dt</label></div></div><div class=\"sk-serial\"><div class=\"sk-item\"><div class=\"sk-estimator sk-toggleable\"><input class=\"sk-toggleable__control sk-hidden--visually\" id=\"sk-estimator-id-4\" type=\"checkbox\" ><label for=\"sk-estimator-id-4\" class=\"sk-toggleable__label sk-toggleable__label-arrow\">DecisionTreeClassifier</label><div class=\"sk-toggleable__content\"><pre>DecisionTreeClassifier()</pre></div></div></div></div></div></div><div class=\"sk-parallel-item\"><div class=\"sk-item\"><div class=\"sk-label-container\"><div class=\"sk-label sk-toggleable\"><label>rf</label></div></div><div class=\"sk-serial\"><div class=\"sk-item\"><div class=\"sk-estimator sk-toggleable\"><input class=\"sk-toggleable__control sk-hidden--visually\" id=\"sk-estimator-id-5\" type=\"checkbox\" ><label for=\"sk-estimator-id-5\" class=\"sk-toggleable__label sk-toggleable__label-arrow\">RandomForestClassifier</label><div class=\"sk-toggleable__content\"><pre>RandomForestClassifier(n_estimators=10)</pre></div></div></div></div></div></div><div class=\"sk-parallel-item\"><div class=\"sk-item\"><div class=\"sk-label-container\"><div class=\"sk-label sk-toggleable\"><label>svm</label></div></div><div class=\"sk-serial\"><div class=\"sk-item\"><div class=\"sk-estimator sk-toggleable\"><input class=\"sk-toggleable__control sk-hidden--visually\" id=\"sk-estimator-id-6\" type=\"checkbox\" ><label for=\"sk-estimator-id-6\" class=\"sk-toggleable__label sk-toggleable__label-arrow\">SVC</label><div class=\"sk-toggleable__content\"><pre>SVC(degree=2, kernel=&#x27;poly&#x27;)</pre></div></div></div></div></div></div></div></div></div></div>"
            ]
          },
          "metadata": {},
          "execution_count": 37
        }
      ]
    },
    {
      "cell_type": "code",
      "source": [
        "print(EVC.score(x_train,y_train))\n",
        "EVC.score(x_test,y_test)"
      ],
      "metadata": {
        "colab": {
          "base_uri": "https://localhost:8080/"
        },
        "id": "IEAJmZUaqfnY",
        "outputId": "0f4ffccc-fc3d-42be-a3b6-d7b3810aad6d"
      },
      "execution_count": null,
      "outputs": [
        {
          "output_type": "stream",
          "name": "stdout",
          "text": [
            "0.7410638297872341\n"
          ]
        },
        {
          "output_type": "execute_result",
          "data": {
            "text/plain": [
              "0.7259574468085106"
            ]
          },
          "metadata": {},
          "execution_count": 38
        }
      ]
    },
    {
      "cell_type": "code",
      "source": [
        "new_predict=EVC.predict(x_test)"
      ],
      "metadata": {
        "id": "_vFaAlNIqlB2"
      },
      "execution_count": null,
      "outputs": []
    },
    {
      "cell_type": "code",
      "source": [
        "from sklearn.metrics import confusion_matrix,classification_report\n",
        "cm=confusion_matrix(y_test,new_predict)\n",
        "print(cm)"
      ],
      "metadata": {
        "colab": {
          "base_uri": "https://localhost:8080/"
        },
        "id": "dV1de0-Nqpip",
        "outputId": "fd63b074-ef7c-4529-cf96-9f147e67bef5"
      },
      "execution_count": null,
      "outputs": [
        {
          "output_type": "stream",
          "name": "stdout",
          "text": [
            "[[781   5]\n",
            " [317  72]]\n"
          ]
        }
      ]
    },
    {
      "cell_type": "code",
      "source": [
        "new_predict7=EVC.predict([[72,5.6431,28.199,34.398,0.00662,3.38E-05,0.00401,0.00317,0.01204,0.02565,0.23,0.01438,0.01309,0.01662,0.04314,0.01429,21.64,0.41888,0.54842,0.16006]])\n",
        "print('new_predict EVC',new_predict7)"
      ],
      "metadata": {
        "colab": {
          "base_uri": "https://localhost:8080/"
        },
        "id": "fuvhN7j3quaA",
        "outputId": "31cdf1aa-cc0c-4ed8-cb33-effc21540794"
      },
      "execution_count": null,
      "outputs": [
        {
          "output_type": "stream",
          "name": "stdout",
          "text": [
            "new_predict EVC [0]\n"
          ]
        }
      ]
    },
    {
      "cell_type": "code",
      "source": [
        "new_predict27=EVC.predict([[73,162.61,22.104,28.104,0.00319,1.75E-05,0.0014,0.00152,0.00419,0.01969,0.193,0.00994,0.01186,0.01634,0.02981,0.025368,24.133,0.54047,0.62628,0.18905]])\n",
        "print('new_predict EVC',new_predict27)"
      ],
      "metadata": {
        "colab": {
          "base_uri": "https://localhost:8080/"
        },
        "id": "GHx9jzpnrCk-",
        "outputId": "a01040c3-b9f4-4612-c686-98d1937b14ee"
      },
      "execution_count": null,
      "outputs": [
        {
          "output_type": "stream",
          "name": "stdout",
          "text": [
            "new_predict EVC [0]\n"
          ]
        }
      ]
    },
    {
      "cell_type": "code",
      "source": [
        "from sklearn.neighbors import KNeighborsClassifier\n",
        "clf = KNeighborsClassifier(n_neighbors=7,leaf_size=20,metric=\"euclidean\")\n",
        "clf.fit(x_train,y_train)\n",
        "#clf.fit(iris.data, iris.target)"
      ],
      "metadata": {
        "colab": {
          "base_uri": "https://localhost:8080/",
          "height": 74
        },
        "id": "A8HL7HR4rjc0",
        "outputId": "5b628611-abfc-4947-9eab-e4ce802c384a"
      },
      "execution_count": null,
      "outputs": [
        {
          "output_type": "execute_result",
          "data": {
            "text/plain": [
              "KNeighborsClassifier(leaf_size=20, metric='euclidean', n_neighbors=7)"
            ],
            "text/html": [
              "<style>#sk-container-id-3 {color: black;background-color: white;}#sk-container-id-3 pre{padding: 0;}#sk-container-id-3 div.sk-toggleable {background-color: white;}#sk-container-id-3 label.sk-toggleable__label {cursor: pointer;display: block;width: 100%;margin-bottom: 0;padding: 0.3em;box-sizing: border-box;text-align: center;}#sk-container-id-3 label.sk-toggleable__label-arrow:before {content: \"▸\";float: left;margin-right: 0.25em;color: #696969;}#sk-container-id-3 label.sk-toggleable__label-arrow:hover:before {color: black;}#sk-container-id-3 div.sk-estimator:hover label.sk-toggleable__label-arrow:before {color: black;}#sk-container-id-3 div.sk-toggleable__content {max-height: 0;max-width: 0;overflow: hidden;text-align: left;background-color: #f0f8ff;}#sk-container-id-3 div.sk-toggleable__content pre {margin: 0.2em;color: black;border-radius: 0.25em;background-color: #f0f8ff;}#sk-container-id-3 input.sk-toggleable__control:checked~div.sk-toggleable__content {max-height: 200px;max-width: 100%;overflow: auto;}#sk-container-id-3 input.sk-toggleable__control:checked~label.sk-toggleable__label-arrow:before {content: \"▾\";}#sk-container-id-3 div.sk-estimator input.sk-toggleable__control:checked~label.sk-toggleable__label {background-color: #d4ebff;}#sk-container-id-3 div.sk-label input.sk-toggleable__control:checked~label.sk-toggleable__label {background-color: #d4ebff;}#sk-container-id-3 input.sk-hidden--visually {border: 0;clip: rect(1px 1px 1px 1px);clip: rect(1px, 1px, 1px, 1px);height: 1px;margin: -1px;overflow: hidden;padding: 0;position: absolute;width: 1px;}#sk-container-id-3 div.sk-estimator {font-family: monospace;background-color: #f0f8ff;border: 1px dotted black;border-radius: 0.25em;box-sizing: border-box;margin-bottom: 0.5em;}#sk-container-id-3 div.sk-estimator:hover {background-color: #d4ebff;}#sk-container-id-3 div.sk-parallel-item::after {content: \"\";width: 100%;border-bottom: 1px solid gray;flex-grow: 1;}#sk-container-id-3 div.sk-label:hover label.sk-toggleable__label {background-color: #d4ebff;}#sk-container-id-3 div.sk-serial::before {content: \"\";position: absolute;border-left: 1px solid gray;box-sizing: border-box;top: 0;bottom: 0;left: 50%;z-index: 0;}#sk-container-id-3 div.sk-serial {display: flex;flex-direction: column;align-items: center;background-color: white;padding-right: 0.2em;padding-left: 0.2em;position: relative;}#sk-container-id-3 div.sk-item {position: relative;z-index: 1;}#sk-container-id-3 div.sk-parallel {display: flex;align-items: stretch;justify-content: center;background-color: white;position: relative;}#sk-container-id-3 div.sk-item::before, #sk-container-id-3 div.sk-parallel-item::before {content: \"\";position: absolute;border-left: 1px solid gray;box-sizing: border-box;top: 0;bottom: 0;left: 50%;z-index: -1;}#sk-container-id-3 div.sk-parallel-item {display: flex;flex-direction: column;z-index: 1;position: relative;background-color: white;}#sk-container-id-3 div.sk-parallel-item:first-child::after {align-self: flex-end;width: 50%;}#sk-container-id-3 div.sk-parallel-item:last-child::after {align-self: flex-start;width: 50%;}#sk-container-id-3 div.sk-parallel-item:only-child::after {width: 0;}#sk-container-id-3 div.sk-dashed-wrapped {border: 1px dashed gray;margin: 0 0.4em 0.5em 0.4em;box-sizing: border-box;padding-bottom: 0.4em;background-color: white;}#sk-container-id-3 div.sk-label label {font-family: monospace;font-weight: bold;display: inline-block;line-height: 1.2em;}#sk-container-id-3 div.sk-label-container {text-align: center;}#sk-container-id-3 div.sk-container {/* jupyter's `normalize.less` sets `[hidden] { display: none; }` but bootstrap.min.css set `[hidden] { display: none !important; }` so we also need the `!important` here to be able to override the default hidden behavior on the sphinx rendered scikit-learn.org. See: https://github.com/scikit-learn/scikit-learn/issues/21755 */display: inline-block !important;position: relative;}#sk-container-id-3 div.sk-text-repr-fallback {display: none;}</style><div id=\"sk-container-id-3\" class=\"sk-top-container\"><div class=\"sk-text-repr-fallback\"><pre>KNeighborsClassifier(leaf_size=20, metric=&#x27;euclidean&#x27;, n_neighbors=7)</pre><b>In a Jupyter environment, please rerun this cell to show the HTML representation or trust the notebook. <br />On GitHub, the HTML representation is unable to render, please try loading this page with nbviewer.org.</b></div><div class=\"sk-container\" hidden><div class=\"sk-item\"><div class=\"sk-estimator sk-toggleable\"><input class=\"sk-toggleable__control sk-hidden--visually\" id=\"sk-estimator-id-7\" type=\"checkbox\" checked><label for=\"sk-estimator-id-7\" class=\"sk-toggleable__label sk-toggleable__label-arrow\">KNeighborsClassifier</label><div class=\"sk-toggleable__content\"><pre>KNeighborsClassifier(leaf_size=20, metric=&#x27;euclidean&#x27;, n_neighbors=7)</pre></div></div></div></div></div>"
            ]
          },
          "metadata": {},
          "execution_count": 43
        }
      ]
    },
    {
      "cell_type": "code",
      "source": [
        "print(\" Acc_training=\",clf.score(x_train,y_train))\n",
        "print(\" Acc_Test=\",clf.score(x_test, y_test))"
      ],
      "metadata": {
        "colab": {
          "base_uri": "https://localhost:8080/"
        },
        "id": "gWTuwEUosIrA",
        "outputId": "ab940e6b-4c9c-49e5-f670-8961c2a6dc57"
      },
      "execution_count": null,
      "outputs": [
        {
          "output_type": "stream",
          "name": "stdout",
          "text": [
            " Acc_training= 0.9691489361702128\n",
            " Acc_Test= 0.9353191489361702\n"
          ]
        }
      ]
    },
    {
      "cell_type": "code",
      "source": [
        "print(\"Predicted Data\")\n",
        "print(clf.predict(x_test))"
      ],
      "metadata": {
        "colab": {
          "base_uri": "https://localhost:8080/"
        },
        "id": "tner8JxvsVcZ",
        "outputId": "0898ff4e-5481-458b-b07a-dc3ac0c4c796"
      },
      "execution_count": null,
      "outputs": [
        {
          "output_type": "stream",
          "name": "stdout",
          "text": [
            "Predicted Data\n",
            "[0 0 0 ... 0 1 0]\n"
          ]
        }
      ]
    },
    {
      "cell_type": "code",
      "source": [
        "prediction=clf.predict(x_test)\n"
      ],
      "metadata": {
        "id": "31PdiCy7sqjc"
      },
      "execution_count": null,
      "outputs": []
    },
    {
      "cell_type": "code",
      "source": [
        "cm=confusion_matrix(y_test,prediction)\n",
        "print(cm)"
      ],
      "metadata": {
        "colab": {
          "base_uri": "https://localhost:8080/"
        },
        "id": "gCgiK23Ssva3",
        "outputId": "16d1de5a-ab72-45f8-e905-519374398ef1"
      },
      "execution_count": null,
      "outputs": [
        {
          "output_type": "stream",
          "name": "stdout",
          "text": [
            "[[758  28]\n",
            " [ 48 341]]\n"
          ]
        }
      ]
    },
    {
      "cell_type": "code",
      "source": [
        "y_new=clf.predict([[72,5.6431,28.199,34.398,0.00662,3.38E-05,0.00401,0.00317,0.01204,0.02565,0.23,0.01438,0.01309,0.01662,0.04314,0.01429,21.64,0.41888,0.54842,0.16006]])\n",
        "y_new"
      ],
      "metadata": {
        "colab": {
          "base_uri": "https://localhost:8080/"
        },
        "id": "LZOqAowCs3yg",
        "outputId": "7ad9c6c5-252a-42fd-903a-cf93801bed72"
      },
      "execution_count": null,
      "outputs": [
        {
          "output_type": "execute_result",
          "data": {
            "text/plain": [
              "array([1])"
            ]
          },
          "metadata": {},
          "execution_count": 48
        }
      ]
    },
    {
      "cell_type": "code",
      "source": [
        "data2=data1.copy()"
      ],
      "metadata": {
        "id": "ENxY9LOMs6rc"
      },
      "execution_count": null,
      "outputs": []
    },
    {
      "cell_type": "markdown",
      "source": [
        "# outlier detection"
      ],
      "metadata": {
        "id": "k9KymVvqty7Y"
      }
    },
    {
      "cell_type": "code",
      "source": [
        "Q1 = data2[j].quantile(0.25)\n",
        "Q3 = data2.quantile(0.75)\n",
        "IQR = Q3 - Q1\n",
        "print(IQR)"
      ],
      "metadata": {
        "colab": {
          "base_uri": "https://localhost:8080/"
        },
        "id": "gNeanO4mtrkf",
        "outputId": "b2570eba-fc4e-4100-8187-960ec79318df"
      },
      "execution_count": null,
      "outputs": [
        {
          "output_type": "stream",
          "name": "stdout",
          "text": [
            "index            2937.000000\n",
            "subject#           23.000000\n",
            "age                14.000000\n",
            "sex                 1.000000\n",
            "test_time          91.597500\n",
            "motor_UPDRS        12.596500\n",
            "total_UPDRS        15.028000\n",
            "Jitter(%)           0.003220\n",
            "Jitter(Abs)         0.000031\n",
            "Jitter:RAP          0.001710\n",
            "Jitter:PPQ5         0.001640\n",
            "Jitter:DDP          0.005140\n",
            "Shimmer             0.020630\n",
            "Shimmer(dB)         0.190000\n",
            "Shimmer:APQ3        0.011295\n",
            "Shimmer:APQ5        0.012965\n",
            "Shimmer:APQ11       0.017050\n",
            "Shimmer:DDA         0.033905\n",
            "NHR                 0.020508\n",
            "HNR                 5.038000\n",
            "RPDE                0.144260\n",
            "DFA                 0.115155\n",
            "PPE                 0.108150\n",
            "dtype: float64\n"
          ]
        }
      ]
    },
    {
      "cell_type": "code",
      "source": [],
      "metadata": {
        "id": "g548bHnXNyv1"
      },
      "execution_count": null,
      "outputs": []
    },
    {
      "cell_type": "code",
      "source": [
        "data2.rename(columns={'Jitter(%)' :'Jitter'}, inplace=True)"
      ],
      "metadata": {
        "id": "fgYLRVHUuGGw"
      },
      "execution_count": null,
      "outputs": []
    },
    {
      "cell_type": "code",
      "source": [
        " df2[\"Jitter\"]=data2[\"Jitter\"].copy()"
      ],
      "metadata": {
        "id": "DAt4KeLut3Zh"
      },
      "execution_count": null,
      "outputs": []
    },
    {
      "cell_type": "code",
      "source": [
        "df2[\"Jitter\"]= df2[\"Jitter\"][~((df2[\"Jitter\"] < (Q1 - 1.5 * IQR)) |(df2[\"Jitter\"] > (Q3 + 1.5 * IQR))).any(axis=1)]\n",
        "df2[\"Jitter\"].head(5)"
      ],
      "metadata": {
        "colab": {
          "base_uri": "https://localhost:8080/",
          "height": 338
        },
        "id": "woZHyoczt7od",
        "outputId": "7c6f5848-557c-4a09-b154-034d6aa62ec4"
      },
      "execution_count": null,
      "outputs": [
        {
          "output_type": "error",
          "ename": "ValueError",
          "evalue": "ignored",
          "traceback": [
            "\u001b[0;31m---------------------------------------------------------------------------\u001b[0m",
            "\u001b[0;31mValueError\u001b[0m                                Traceback (most recent call last)",
            "\u001b[0;32m<ipython-input-73-e5db115ef8ed>\u001b[0m in \u001b[0;36m<cell line: 1>\u001b[0;34m()\u001b[0m\n\u001b[0;32m----> 1\u001b[0;31m \u001b[0mdf2\u001b[0m\u001b[0;34m[\u001b[0m\u001b[0;34m\"Jitter\"\u001b[0m\u001b[0;34m]\u001b[0m\u001b[0;34m=\u001b[0m \u001b[0mdf2\u001b[0m\u001b[0;34m[\u001b[0m\u001b[0;34m\"Jitter\"\u001b[0m\u001b[0;34m]\u001b[0m\u001b[0;34m[\u001b[0m\u001b[0;34m~\u001b[0m\u001b[0;34m(\u001b[0m\u001b[0;34m(\u001b[0m\u001b[0mdf2\u001b[0m\u001b[0;34m[\u001b[0m\u001b[0;34m\"Jitter\"\u001b[0m\u001b[0;34m]\u001b[0m \u001b[0;34m<\u001b[0m \u001b[0;34m(\u001b[0m\u001b[0mQ1\u001b[0m \u001b[0;34m-\u001b[0m \u001b[0;36m1.5\u001b[0m \u001b[0;34m*\u001b[0m \u001b[0mIQR\u001b[0m\u001b[0;34m)\u001b[0m\u001b[0;34m)\u001b[0m \u001b[0;34m|\u001b[0m\u001b[0;34m(\u001b[0m\u001b[0mdf2\u001b[0m\u001b[0;34m[\u001b[0m\u001b[0;34m\"Jitter\"\u001b[0m\u001b[0;34m]\u001b[0m \u001b[0;34m>\u001b[0m \u001b[0;34m(\u001b[0m\u001b[0mQ3\u001b[0m \u001b[0;34m+\u001b[0m \u001b[0;36m1.5\u001b[0m \u001b[0;34m*\u001b[0m \u001b[0mIQR\u001b[0m\u001b[0;34m)\u001b[0m\u001b[0;34m)\u001b[0m\u001b[0;34m)\u001b[0m\u001b[0;34m.\u001b[0m\u001b[0many\u001b[0m\u001b[0;34m(\u001b[0m\u001b[0maxis\u001b[0m\u001b[0;34m=\u001b[0m\u001b[0;36m1\u001b[0m\u001b[0;34m)\u001b[0m\u001b[0;34m]\u001b[0m\u001b[0;34m\u001b[0m\u001b[0;34m\u001b[0m\u001b[0m\n\u001b[0m\u001b[1;32m      2\u001b[0m \u001b[0mdf2\u001b[0m\u001b[0;34m[\u001b[0m\u001b[0;34m\"Jitter\"\u001b[0m\u001b[0;34m]\u001b[0m\u001b[0;34m.\u001b[0m\u001b[0mhead\u001b[0m\u001b[0;34m(\u001b[0m\u001b[0;36m5\u001b[0m\u001b[0;34m)\u001b[0m\u001b[0;34m\u001b[0m\u001b[0;34m\u001b[0m\u001b[0m\n",
            "\u001b[0;32m/usr/local/lib/python3.10/dist-packages/pandas/core/ops/common.py\u001b[0m in \u001b[0;36mnew_method\u001b[0;34m(self, other)\u001b[0m\n\u001b[1;32m     70\u001b[0m         \u001b[0mother\u001b[0m \u001b[0;34m=\u001b[0m \u001b[0mitem_from_zerodim\u001b[0m\u001b[0;34m(\u001b[0m\u001b[0mother\u001b[0m\u001b[0;34m)\u001b[0m\u001b[0;34m\u001b[0m\u001b[0;34m\u001b[0m\u001b[0m\n\u001b[1;32m     71\u001b[0m \u001b[0;34m\u001b[0m\u001b[0m\n\u001b[0;32m---> 72\u001b[0;31m         \u001b[0;32mreturn\u001b[0m \u001b[0mmethod\u001b[0m\u001b[0;34m(\u001b[0m\u001b[0mself\u001b[0m\u001b[0;34m,\u001b[0m \u001b[0mother\u001b[0m\u001b[0;34m)\u001b[0m\u001b[0;34m\u001b[0m\u001b[0;34m\u001b[0m\u001b[0m\n\u001b[0m\u001b[1;32m     73\u001b[0m \u001b[0;34m\u001b[0m\u001b[0m\n\u001b[1;32m     74\u001b[0m     \u001b[0;32mreturn\u001b[0m \u001b[0mnew_method\u001b[0m\u001b[0;34m\u001b[0m\u001b[0;34m\u001b[0m\u001b[0m\n",
            "\u001b[0;32m/usr/local/lib/python3.10/dist-packages/pandas/core/arraylike.py\u001b[0m in \u001b[0;36m__lt__\u001b[0;34m(self, other)\u001b[0m\n\u001b[1;32m     48\u001b[0m     \u001b[0;34m@\u001b[0m\u001b[0munpack_zerodim_and_defer\u001b[0m\u001b[0;34m(\u001b[0m\u001b[0;34m\"__lt__\"\u001b[0m\u001b[0;34m)\u001b[0m\u001b[0;34m\u001b[0m\u001b[0;34m\u001b[0m\u001b[0m\n\u001b[1;32m     49\u001b[0m     \u001b[0;32mdef\u001b[0m \u001b[0m__lt__\u001b[0m\u001b[0;34m(\u001b[0m\u001b[0mself\u001b[0m\u001b[0;34m,\u001b[0m \u001b[0mother\u001b[0m\u001b[0;34m)\u001b[0m\u001b[0;34m:\u001b[0m\u001b[0;34m\u001b[0m\u001b[0;34m\u001b[0m\u001b[0m\n\u001b[0;32m---> 50\u001b[0;31m         \u001b[0;32mreturn\u001b[0m \u001b[0mself\u001b[0m\u001b[0;34m.\u001b[0m\u001b[0m_cmp_method\u001b[0m\u001b[0;34m(\u001b[0m\u001b[0mother\u001b[0m\u001b[0;34m,\u001b[0m \u001b[0moperator\u001b[0m\u001b[0;34m.\u001b[0m\u001b[0mlt\u001b[0m\u001b[0;34m)\u001b[0m\u001b[0;34m\u001b[0m\u001b[0;34m\u001b[0m\u001b[0m\n\u001b[0m\u001b[1;32m     51\u001b[0m \u001b[0;34m\u001b[0m\u001b[0m\n\u001b[1;32m     52\u001b[0m     \u001b[0;34m@\u001b[0m\u001b[0munpack_zerodim_and_defer\u001b[0m\u001b[0;34m(\u001b[0m\u001b[0;34m\"__le__\"\u001b[0m\u001b[0;34m)\u001b[0m\u001b[0;34m\u001b[0m\u001b[0;34m\u001b[0m\u001b[0m\n",
            "\u001b[0;32m/usr/local/lib/python3.10/dist-packages/pandas/core/series.py\u001b[0m in \u001b[0;36m_cmp_method\u001b[0;34m(self, other, op)\u001b[0m\n\u001b[1;32m   6235\u001b[0m \u001b[0;34m\u001b[0m\u001b[0m\n\u001b[1;32m   6236\u001b[0m         \u001b[0;32mif\u001b[0m \u001b[0misinstance\u001b[0m\u001b[0;34m(\u001b[0m\u001b[0mother\u001b[0m\u001b[0;34m,\u001b[0m \u001b[0mSeries\u001b[0m\u001b[0;34m)\u001b[0m \u001b[0;32mand\u001b[0m \u001b[0;32mnot\u001b[0m \u001b[0mself\u001b[0m\u001b[0;34m.\u001b[0m\u001b[0m_indexed_same\u001b[0m\u001b[0;34m(\u001b[0m\u001b[0mother\u001b[0m\u001b[0;34m)\u001b[0m\u001b[0;34m:\u001b[0m\u001b[0;34m\u001b[0m\u001b[0;34m\u001b[0m\u001b[0m\n\u001b[0;32m-> 6237\u001b[0;31m             \u001b[0;32mraise\u001b[0m \u001b[0mValueError\u001b[0m\u001b[0;34m(\u001b[0m\u001b[0;34m\"Can only compare identically-labeled Series objects\"\u001b[0m\u001b[0;34m)\u001b[0m\u001b[0;34m\u001b[0m\u001b[0;34m\u001b[0m\u001b[0m\n\u001b[0m\u001b[1;32m   6238\u001b[0m \u001b[0;34m\u001b[0m\u001b[0m\n\u001b[1;32m   6239\u001b[0m         \u001b[0mlvalues\u001b[0m \u001b[0;34m=\u001b[0m \u001b[0mself\u001b[0m\u001b[0;34m.\u001b[0m\u001b[0m_values\u001b[0m\u001b[0;34m\u001b[0m\u001b[0;34m\u001b[0m\u001b[0m\n",
            "\u001b[0;31mValueError\u001b[0m: Can only compare identically-labeled Series objects"
          ]
        }
      ]
    },
    {
      "cell_type": "code",
      "source": [
        "# df2.shape"
      ],
      "metadata": {
        "id": "KWljrysYt-g-"
      },
      "execution_count": null,
      "outputs": []
    },
    {
      "cell_type": "code",
      "source": [
        "# df2.drop('index', inplace=True, axis=1)\n",
        "# df2.head(5)"
      ],
      "metadata": {
        "colab": {
          "base_uri": "https://localhost:8080/",
          "height": 299
        },
        "id": "2HYkqUsjuCfp",
        "outputId": "e011bcfc-89f2-4c1e-9577-3171692f61d4"
      },
      "execution_count": null,
      "outputs": [
        {
          "output_type": "execute_result",
          "data": {
            "text/plain": [
              "   subject#  age  sex  test_time  motor_UPDRS  total_UPDRS  Jitter(%)  \\\n",
              "0         1   72    0     5.6431       28.199       34.398    0.00662   \n",
              "1         1   72    0    12.6660       28.447       34.894    0.00300   \n",
              "2         1   72    0    19.6810       28.695       35.389    0.00481   \n",
              "3         1   72    0    25.6470       28.905       35.810    0.00528   \n",
              "4         1   72    0    33.6420       29.187       36.375    0.00335   \n",
              "\n",
              "   Jitter(Abs)  Jitter:RAP  Jitter:PPQ5  ...  Shimmer(dB)  Shimmer:APQ3  \\\n",
              "0     0.000034     0.00401      0.00317  ...        0.230       0.01438   \n",
              "1     0.000017     0.00132      0.00150  ...        0.179       0.00994   \n",
              "2     0.000025     0.00205      0.00208  ...        0.181       0.00734   \n",
              "3     0.000027     0.00191      0.00264  ...        0.327       0.01106   \n",
              "4     0.000020     0.00093      0.00130  ...        0.176       0.00679   \n",
              "\n",
              "   Shimmer:APQ5  Shimmer:APQ11  Shimmer:DDA       NHR     HNR     RPDE  \\\n",
              "0       0.01309        0.01662      0.04314  0.014290  21.640  0.41888   \n",
              "1       0.01072        0.01689      0.02982  0.011112  27.183  0.43493   \n",
              "2       0.00844        0.01458      0.02202  0.020220  23.047  0.46222   \n",
              "3       0.01265        0.01963      0.03317  0.027837  24.445  0.48730   \n",
              "4       0.00929        0.01819      0.02036  0.011625  26.126  0.47188   \n",
              "\n",
              "       DFA      PPE  \n",
              "0  0.54842  0.16006  \n",
              "1  0.56477  0.10810  \n",
              "2  0.54405  0.21014  \n",
              "3  0.57794  0.33277  \n",
              "4  0.56122  0.19361  \n",
              "\n",
              "[5 rows x 22 columns]"
            ],
            "text/html": [
              "\n",
              "\n",
              "  <div id=\"df-c2f0b443-cbba-43ad-b205-38b6a4e066bc\">\n",
              "    <div class=\"colab-df-container\">\n",
              "      <div>\n",
              "<style scoped>\n",
              "    .dataframe tbody tr th:only-of-type {\n",
              "        vertical-align: middle;\n",
              "    }\n",
              "\n",
              "    .dataframe tbody tr th {\n",
              "        vertical-align: top;\n",
              "    }\n",
              "\n",
              "    .dataframe thead th {\n",
              "        text-align: right;\n",
              "    }\n",
              "</style>\n",
              "<table border=\"1\" class=\"dataframe\">\n",
              "  <thead>\n",
              "    <tr style=\"text-align: right;\">\n",
              "      <th></th>\n",
              "      <th>subject#</th>\n",
              "      <th>age</th>\n",
              "      <th>sex</th>\n",
              "      <th>test_time</th>\n",
              "      <th>motor_UPDRS</th>\n",
              "      <th>total_UPDRS</th>\n",
              "      <th>Jitter(%)</th>\n",
              "      <th>Jitter(Abs)</th>\n",
              "      <th>Jitter:RAP</th>\n",
              "      <th>Jitter:PPQ5</th>\n",
              "      <th>...</th>\n",
              "      <th>Shimmer(dB)</th>\n",
              "      <th>Shimmer:APQ3</th>\n",
              "      <th>Shimmer:APQ5</th>\n",
              "      <th>Shimmer:APQ11</th>\n",
              "      <th>Shimmer:DDA</th>\n",
              "      <th>NHR</th>\n",
              "      <th>HNR</th>\n",
              "      <th>RPDE</th>\n",
              "      <th>DFA</th>\n",
              "      <th>PPE</th>\n",
              "    </tr>\n",
              "  </thead>\n",
              "  <tbody>\n",
              "    <tr>\n",
              "      <th>0</th>\n",
              "      <td>1</td>\n",
              "      <td>72</td>\n",
              "      <td>0</td>\n",
              "      <td>5.6431</td>\n",
              "      <td>28.199</td>\n",
              "      <td>34.398</td>\n",
              "      <td>0.00662</td>\n",
              "      <td>0.000034</td>\n",
              "      <td>0.00401</td>\n",
              "      <td>0.00317</td>\n",
              "      <td>...</td>\n",
              "      <td>0.230</td>\n",
              "      <td>0.01438</td>\n",
              "      <td>0.01309</td>\n",
              "      <td>0.01662</td>\n",
              "      <td>0.04314</td>\n",
              "      <td>0.014290</td>\n",
              "      <td>21.640</td>\n",
              "      <td>0.41888</td>\n",
              "      <td>0.54842</td>\n",
              "      <td>0.16006</td>\n",
              "    </tr>\n",
              "    <tr>\n",
              "      <th>1</th>\n",
              "      <td>1</td>\n",
              "      <td>72</td>\n",
              "      <td>0</td>\n",
              "      <td>12.6660</td>\n",
              "      <td>28.447</td>\n",
              "      <td>34.894</td>\n",
              "      <td>0.00300</td>\n",
              "      <td>0.000017</td>\n",
              "      <td>0.00132</td>\n",
              "      <td>0.00150</td>\n",
              "      <td>...</td>\n",
              "      <td>0.179</td>\n",
              "      <td>0.00994</td>\n",
              "      <td>0.01072</td>\n",
              "      <td>0.01689</td>\n",
              "      <td>0.02982</td>\n",
              "      <td>0.011112</td>\n",
              "      <td>27.183</td>\n",
              "      <td>0.43493</td>\n",
              "      <td>0.56477</td>\n",
              "      <td>0.10810</td>\n",
              "    </tr>\n",
              "    <tr>\n",
              "      <th>2</th>\n",
              "      <td>1</td>\n",
              "      <td>72</td>\n",
              "      <td>0</td>\n",
              "      <td>19.6810</td>\n",
              "      <td>28.695</td>\n",
              "      <td>35.389</td>\n",
              "      <td>0.00481</td>\n",
              "      <td>0.000025</td>\n",
              "      <td>0.00205</td>\n",
              "      <td>0.00208</td>\n",
              "      <td>...</td>\n",
              "      <td>0.181</td>\n",
              "      <td>0.00734</td>\n",
              "      <td>0.00844</td>\n",
              "      <td>0.01458</td>\n",
              "      <td>0.02202</td>\n",
              "      <td>0.020220</td>\n",
              "      <td>23.047</td>\n",
              "      <td>0.46222</td>\n",
              "      <td>0.54405</td>\n",
              "      <td>0.21014</td>\n",
              "    </tr>\n",
              "    <tr>\n",
              "      <th>3</th>\n",
              "      <td>1</td>\n",
              "      <td>72</td>\n",
              "      <td>0</td>\n",
              "      <td>25.6470</td>\n",
              "      <td>28.905</td>\n",
              "      <td>35.810</td>\n",
              "      <td>0.00528</td>\n",
              "      <td>0.000027</td>\n",
              "      <td>0.00191</td>\n",
              "      <td>0.00264</td>\n",
              "      <td>...</td>\n",
              "      <td>0.327</td>\n",
              "      <td>0.01106</td>\n",
              "      <td>0.01265</td>\n",
              "      <td>0.01963</td>\n",
              "      <td>0.03317</td>\n",
              "      <td>0.027837</td>\n",
              "      <td>24.445</td>\n",
              "      <td>0.48730</td>\n",
              "      <td>0.57794</td>\n",
              "      <td>0.33277</td>\n",
              "    </tr>\n",
              "    <tr>\n",
              "      <th>4</th>\n",
              "      <td>1</td>\n",
              "      <td>72</td>\n",
              "      <td>0</td>\n",
              "      <td>33.6420</td>\n",
              "      <td>29.187</td>\n",
              "      <td>36.375</td>\n",
              "      <td>0.00335</td>\n",
              "      <td>0.000020</td>\n",
              "      <td>0.00093</td>\n",
              "      <td>0.00130</td>\n",
              "      <td>...</td>\n",
              "      <td>0.176</td>\n",
              "      <td>0.00679</td>\n",
              "      <td>0.00929</td>\n",
              "      <td>0.01819</td>\n",
              "      <td>0.02036</td>\n",
              "      <td>0.011625</td>\n",
              "      <td>26.126</td>\n",
              "      <td>0.47188</td>\n",
              "      <td>0.56122</td>\n",
              "      <td>0.19361</td>\n",
              "    </tr>\n",
              "  </tbody>\n",
              "</table>\n",
              "<p>5 rows × 22 columns</p>\n",
              "</div>\n",
              "      <button class=\"colab-df-convert\" onclick=\"convertToInteractive('df-c2f0b443-cbba-43ad-b205-38b6a4e066bc')\"\n",
              "              title=\"Convert this dataframe to an interactive table.\"\n",
              "              style=\"display:none;\">\n",
              "\n",
              "  <svg xmlns=\"http://www.w3.org/2000/svg\" height=\"24px\"viewBox=\"0 0 24 24\"\n",
              "       width=\"24px\">\n",
              "    <path d=\"M0 0h24v24H0V0z\" fill=\"none\"/>\n",
              "    <path d=\"M18.56 5.44l.94 2.06.94-2.06 2.06-.94-2.06-.94-.94-2.06-.94 2.06-2.06.94zm-11 1L8.5 8.5l.94-2.06 2.06-.94-2.06-.94L8.5 2.5l-.94 2.06-2.06.94zm10 10l.94 2.06.94-2.06 2.06-.94-2.06-.94-.94-2.06-.94 2.06-2.06.94z\"/><path d=\"M17.41 7.96l-1.37-1.37c-.4-.4-.92-.59-1.43-.59-.52 0-1.04.2-1.43.59L10.3 9.45l-7.72 7.72c-.78.78-.78 2.05 0 2.83L4 21.41c.39.39.9.59 1.41.59.51 0 1.02-.2 1.41-.59l7.78-7.78 2.81-2.81c.8-.78.8-2.07 0-2.86zM5.41 20L4 18.59l7.72-7.72 1.47 1.35L5.41 20z\"/>\n",
              "  </svg>\n",
              "      </button>\n",
              "\n",
              "\n",
              "\n",
              "    <div id=\"df-7c524e93-d18d-46df-a451-0f7bf88e9d6a\">\n",
              "      <button class=\"colab-df-quickchart\" onclick=\"quickchart('df-7c524e93-d18d-46df-a451-0f7bf88e9d6a')\"\n",
              "              title=\"Suggest charts.\"\n",
              "              style=\"display:none;\">\n",
              "\n",
              "<svg xmlns=\"http://www.w3.org/2000/svg\" height=\"24px\"viewBox=\"0 0 24 24\"\n",
              "     width=\"24px\">\n",
              "    <g>\n",
              "        <path d=\"M19 3H5c-1.1 0-2 .9-2 2v14c0 1.1.9 2 2 2h14c1.1 0 2-.9 2-2V5c0-1.1-.9-2-2-2zM9 17H7v-7h2v7zm4 0h-2V7h2v10zm4 0h-2v-4h2v4z\"/>\n",
              "    </g>\n",
              "</svg>\n",
              "      </button>\n",
              "    </div>\n",
              "\n",
              "<style>\n",
              "  .colab-df-quickchart {\n",
              "    background-color: #E8F0FE;\n",
              "    border: none;\n",
              "    border-radius: 50%;\n",
              "    cursor: pointer;\n",
              "    display: none;\n",
              "    fill: #1967D2;\n",
              "    height: 32px;\n",
              "    padding: 0 0 0 0;\n",
              "    width: 32px;\n",
              "  }\n",
              "\n",
              "  .colab-df-quickchart:hover {\n",
              "    background-color: #E2EBFA;\n",
              "    box-shadow: 0px 1px 2px rgba(60, 64, 67, 0.3), 0px 1px 3px 1px rgba(60, 64, 67, 0.15);\n",
              "    fill: #174EA6;\n",
              "  }\n",
              "\n",
              "  [theme=dark] .colab-df-quickchart {\n",
              "    background-color: #3B4455;\n",
              "    fill: #D2E3FC;\n",
              "  }\n",
              "\n",
              "  [theme=dark] .colab-df-quickchart:hover {\n",
              "    background-color: #434B5C;\n",
              "    box-shadow: 0px 1px 3px 1px rgba(0, 0, 0, 0.15);\n",
              "    filter: drop-shadow(0px 1px 2px rgba(0, 0, 0, 0.3));\n",
              "    fill: #FFFFFF;\n",
              "  }\n",
              "</style>\n",
              "\n",
              "    <script>\n",
              "      async function quickchart(key) {\n",
              "        const containerElement = document.querySelector('#' + key);\n",
              "        const charts = await google.colab.kernel.invokeFunction(\n",
              "            'suggestCharts', [key], {});\n",
              "      }\n",
              "    </script>\n",
              "\n",
              "      <script>\n",
              "\n",
              "function displayQuickchartButton(domScope) {\n",
              "  let quickchartButtonEl =\n",
              "    domScope.querySelector('#df-7c524e93-d18d-46df-a451-0f7bf88e9d6a button.colab-df-quickchart');\n",
              "  quickchartButtonEl.style.display =\n",
              "    google.colab.kernel.accessAllowed ? 'block' : 'none';\n",
              "}\n",
              "\n",
              "        displayQuickchartButton(document);\n",
              "      </script>\n",
              "      <style>\n",
              "    .colab-df-container {\n",
              "      display:flex;\n",
              "      flex-wrap:wrap;\n",
              "      gap: 12px;\n",
              "    }\n",
              "\n",
              "    .colab-df-convert {\n",
              "      background-color: #E8F0FE;\n",
              "      border: none;\n",
              "      border-radius: 50%;\n",
              "      cursor: pointer;\n",
              "      display: none;\n",
              "      fill: #1967D2;\n",
              "      height: 32px;\n",
              "      padding: 0 0 0 0;\n",
              "      width: 32px;\n",
              "    }\n",
              "\n",
              "    .colab-df-convert:hover {\n",
              "      background-color: #E2EBFA;\n",
              "      box-shadow: 0px 1px 2px rgba(60, 64, 67, 0.3), 0px 1px 3px 1px rgba(60, 64, 67, 0.15);\n",
              "      fill: #174EA6;\n",
              "    }\n",
              "\n",
              "    [theme=dark] .colab-df-convert {\n",
              "      background-color: #3B4455;\n",
              "      fill: #D2E3FC;\n",
              "    }\n",
              "\n",
              "    [theme=dark] .colab-df-convert:hover {\n",
              "      background-color: #434B5C;\n",
              "      box-shadow: 0px 1px 3px 1px rgba(0, 0, 0, 0.15);\n",
              "      filter: drop-shadow(0px 1px 2px rgba(0, 0, 0, 0.3));\n",
              "      fill: #FFFFFF;\n",
              "    }\n",
              "  </style>\n",
              "\n",
              "      <script>\n",
              "        const buttonEl =\n",
              "          document.querySelector('#df-c2f0b443-cbba-43ad-b205-38b6a4e066bc button.colab-df-convert');\n",
              "        buttonEl.style.display =\n",
              "          google.colab.kernel.accessAllowed ? 'block' : 'none';\n",
              "\n",
              "        async function convertToInteractive(key) {\n",
              "          const element = document.querySelector('#df-c2f0b443-cbba-43ad-b205-38b6a4e066bc');\n",
              "          const dataTable =\n",
              "            await google.colab.kernel.invokeFunction('convertToInteractive',\n",
              "                                                     [key], {});\n",
              "          if (!dataTable) return;\n",
              "\n",
              "          const docLinkHtml = 'Like what you see? Visit the ' +\n",
              "            '<a target=\"_blank\" href=https://colab.research.google.com/notebooks/data_table.ipynb>data table notebook</a>'\n",
              "            + ' to learn more about interactive tables.';\n",
              "          element.innerHTML = '';\n",
              "          dataTable['output_type'] = 'display_data';\n",
              "          await google.colab.output.renderOutput(dataTable, element);\n",
              "          const docLink = document.createElement('div');\n",
              "          docLink.innerHTML = docLinkHtml;\n",
              "          element.appendChild(docLink);\n",
              "        }\n",
              "      </script>\n",
              "    </div>\n",
              "  </div>\n"
            ]
          },
          "metadata": {},
          "execution_count": 54
        }
      ]
    },
    {
      "cell_type": "code",
      "source": [
        "sns.boxplot(x=df2.Jitter)\n",
        "plt.title('Jitter(%)', fontsize = 10)\n",
        "plt.show()"
      ],
      "metadata": {
        "colab": {
          "base_uri": "https://localhost:8080/",
          "height": 452
        },
        "id": "IzD7Y6qfvSjK",
        "outputId": "24ac6ac8-82e0-40e3-e08e-d9ee4ae2c43f"
      },
      "execution_count": null,
      "outputs": [
        {
          "output_type": "display_data",
          "data": {
            "text/plain": [
              "<Figure size 640x480 with 1 Axes>"
            ],
            "image/png": "[encoded data removed]"
          },
          "metadata": {}
        }
      ]
    }
  ]
}